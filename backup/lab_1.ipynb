{
 "cells": [
  {
   "cell_type": "markdown",
   "source": [
    "Konrad Sochacki 227958"
   ],
   "metadata": {
    "collapsed": false,
    "pycharm": {
     "name": "#%% md\n"
    }
   }
  },
  {
   "cell_type": "markdown",
   "metadata": {},
   "source": [
    "# Laboratorium 1\n",
    "\n",
    "Celem pierwszego laboratorium jest zapoznanie się oraz zaimplementowanie algorytmów uczenia pasywnego. Zaimplementowane algorytmy będą testowane z wykorzystaniem wcześniej przygotowanego środowiska przedstawionego na schemacie poniżej:\n",
    "![MDP, Markov Decision Process](assets/images/mdp.png)"
   ]
  },
  {
   "cell_type": "markdown",
   "metadata": {},
   "source": [
    "Dołączenie biblioteki ze środowiskiem"
   ]
  },
  {
   "cell_type": "code",
   "execution_count": 29,
   "metadata": {
    "pycharm": {
     "is_executing": false
    }
   },
   "outputs": [],
   "source": [
    "from env.simpleMDP import simpleMDP\n",
    "import numpy as np"
   ]
  },
  {
   "cell_type": "markdown",
   "metadata": {},
   "source": [
    "Zapoznanie się z przygotowanym środowiskiem"
   ]
  },
  {
   "cell_type": "code",
   "execution_count": 30,
   "metadata": {
    "pycharm": {
     "is_executing": false
    }
   },
   "outputs": [
    {
     "name": "stdout",
     "output_type": "stream",
     "text": [
      "['s0', 's1', 's2']\n",
      "State: s0 action: a0 list of possible next states:  {'s0': 0.5, 's2': 0.5}\n",
      "State: s0 action: a1 list of possible next states:  {'s2': 1}\n",
      "State: s1 action: a0 list of possible next states:  {'s0': 0.7, 's1': 0.1, 's2': 0.2}\n",
      "State: s1 action: a1 list of possible next states:  {'s1': 0.95, 's2': 0.05}\n",
      "State: s2 action: a0 list of possible next states:  {'s0': 0.4, 's2': 0.6}\n",
      "State: s2 action: a1 list of possible next states:  {'s0': 0.3, 's1': 0.3, 's2': 0.4}\n"
     ]
    }
   ],
   "source": [
    "mdp = simpleMDP()\n",
    "\n",
    "states = mdp.get_all_states()\n",
    "print(states)\n",
    "\n",
    "for s in states:\n",
    "    actions = mdp.get_possible_actions(s)\n",
    "    for a in actions:\n",
    "        next_states = mdp.get_next_states(s, a)\n",
    "        print(\"State: \" + s + \" action: \" + a + \" \" + \"list of possible next states: \", next_states)"
   ]
  },
  {
   "cell_type": "markdown",
   "metadata": {},
   "source": [
    "## Zadanie 1 - Ocena strategii (*Policy evaluation*)\n",
    "\n",
    "<p style='text-align: justify;'>\n",
    "Celem ćwiczenie jest zaimplementowanie algorytmu oceny strategii. Algorytm wyznacza funkcję oceny (wartości) strategii wykorzystując równanie Bellmana. Odbywa się to w sposób iteracyjny zgodnie ze wzorem:\n",
    "\\begin{equation}\n",
    "\t        V_{k + 1}(s) = \\sum_a \\pi(a | s) \\sum_{s'} \\sum_r p(s', r|s, a)[r + \\gamma V_k(s')]\n",
    "\\end{equation}\n",
    "</p>"
   ]
  },
  {
   "cell_type": "markdown",
   "metadata": {},
   "source": [
    "Pierwszym krokiem jest zainicjalizowanie strategii, która będzie podlegała ocenie. W tym zadaniu ocenie będzie podlegała strategia stochastyczna, w której będzie prawdopodobieństwo wyboru każdej z możliwych opcji będzie takie samo."
   ]
  },
  {
   "cell_type": "code",
   "execution_count": 31,
   "metadata": {
    "pycharm": {
     "is_executing": false
    }
   },
   "outputs": [
    {
     "name": "stdout",
     "output_type": "stream",
     "text": [
      "{'s0': {'a0': 0.5, 'a1': 0.5}, 's1': {'a0': 0.5, 'a1': 0.5}, 's2': {'a0': 0.5, 'a1': 0.5}}\n"
     ]
    }
   ],
   "source": [
    "policy = dict()\n",
    "\n",
    "for s in states:\n",
    "    actions = mdp.get_possible_actions(s)\n",
    "    action_prob = 1 / len(actions)\n",
    "    policy[s] = dict()\n",
    "    for a in actions:\n",
    "        policy[s][a] = action_prob\n",
    "\n",
    "print(policy)"
   ]
  },
  {
   "cell_type": "markdown",
   "metadata": {},
   "source": [
    "Implementacja algorytmu oceny strategii - podejście z dwiema tablicami"
   ]
  },
  {
   "cell_type": "code",
   "execution_count": 32,
   "metadata": {
    "pycharm": {
     "is_executing": false
    }
   },
   "outputs": [],
   "source": [
    "def policy_eval_two_arrays(mdp, policy, gamma, theta):\n",
    "    all_states = mdp.get_all_states()\n",
    "    V = dict()\n",
    "\n",
    "    for state in all_states:\n",
    "        V[state] = 0\n",
    "\n",
    "    while True:\n",
    "        delta = 0\n",
    "        V_copy = V.copy()\n",
    "        for state in all_states:\n",
    "            valueS = 0\n",
    "            possible_actions = mdp.get_possible_actions(state)\n",
    "            for action in possible_actions:\n",
    "                prob_to_take_action = policy[state][action]\n",
    "                sum_for_all_end_states = 0\n",
    "                next_states_with_prob_dict = mdp.get_next_states(state, action)\n",
    "                for next_state in next_states_with_prob_dict.keys():\n",
    "                    going_in_that_direction_prob = next_states_with_prob_dict[next_state]\n",
    "                    reward = mdp.get_reward(state, action, next_state)\n",
    "                    next_state_values = going_in_that_direction_prob * (\n",
    "                            reward + gamma * V_copy[next_state])  # p(s', r|s, a)[r + gamma*V(s')]\n",
    "                    sum_for_all_end_states += next_state_values\n",
    "                valueS += prob_to_take_action * sum_for_all_end_states  # PI(a|s) * ...\n",
    "            delta = max(delta, valueS - V_copy[state])\n",
    "            V[state] = valueS\n",
    "        if delta < theta:\n",
    "            # print(\"Delta <= theta\")\n",
    "            break\n",
    "    return V"
   ]
  },
  {
   "cell_type": "markdown",
   "metadata": {},
   "source": [
    "Sprawdzenie poprawności zaimplementowanego algorytmu"
   ]
  },
  {
   "cell_type": "code",
   "execution_count": 33,
   "metadata": {
    "pycharm": {
     "is_executing": false
    }
   },
   "outputs": [],
   "source": [
    "V = policy_eval_two_arrays(mdp, policy, 0.9, 0.0001)\n",
    "\n",
    "assert np.isclose(V['s0'], 1.46785443374683)\n",
    "assert np.isclose(V['s1'], 4.55336594491180)\n",
    "assert np.isclose(V['s2'], 1.68544141660991)"
   ]
  },
  {
   "cell_type": "markdown",
   "metadata": {},
   "source": [
    "Implementacja algorytmu oceny strategii - obliczenia w miejscu"
   ]
  },
  {
   "cell_type": "code",
   "execution_count": 34,
   "metadata": {
    "pycharm": {
     "is_executing": false
    }
   },
   "outputs": [],
   "source": [
    "def policy_eval_in_place(mdp, policy, gamma, theta):\n",
    "    all_states = mdp.get_all_states()\n",
    "    V = dict()\n",
    "\n",
    "    for state in all_states:\n",
    "        V[state] = 0\n",
    "\n",
    "    while True:\n",
    "        delta = 0\n",
    "        for state in all_states:\n",
    "            valueS = 0\n",
    "            possible_actions = mdp.get_possible_actions(state)\n",
    "            for action in possible_actions:\n",
    "                prob_to_take_action = policy[state][action]\n",
    "                sum_for_all_end_states = 0\n",
    "                next_states_with_prob_dict = mdp.get_next_states(state, action)\n",
    "                for next_state in next_states_with_prob_dict.keys():\n",
    "                    going_in_that_direction_prob = next_states_with_prob_dict[next_state]\n",
    "                    reward = mdp.get_reward(state, action, next_state)\n",
    "                    next_state_values = going_in_that_direction_prob * (\n",
    "                            reward + gamma * V[next_state])  # p(s', r|s, a)[r + gamma*V(s')]\n",
    "                    sum_for_all_end_states += next_state_values\n",
    "                valueS += prob_to_take_action * sum_for_all_end_states  # PI(a|s) * ...\n",
    "            delta = max(delta, valueS - V[state])\n",
    "            V[state] = valueS\n",
    "        if delta < theta:\n",
    "            # print(\"Delta <= theta\")\n",
    "            break\n",
    "    return V"
   ]
  },
  {
   "cell_type": "code",
   "execution_count": 35,
   "metadata": {
    "pycharm": {
     "is_executing": false,
     "name": "#%%\n"
    }
   },
   "outputs": [
    {
     "data": {
      "text/plain": [
       "{'s0': 1.4681508097650982, 's1': 4.553676813271178, 's2': 1.6857723431613718}"
      ]
     },
     "execution_count": 35,
     "metadata": {},
     "output_type": "execute_result"
    }
   ],
   "source": [
    "V = policy_eval_in_place(mdp, policy, 0.9, 0.0001)\n",
    "V"
   ]
  },
  {
   "cell_type": "markdown",
   "metadata": {},
   "source": [
    "Sprawdzenie poprawności zaimplementowanego algorytmu"
   ]
  },
  {
   "cell_type": "code",
   "execution_count": 36,
   "metadata": {
    "pycharm": {
     "is_executing": false
    }
   },
   "outputs": [],
   "source": [
    "V = policy_eval_in_place(mdp, policy, 0.9, 0.0001)\n",
    "\n",
    "assert np.isclose(V['s0'], 1.4681508097651)\n",
    "assert np.isclose(V['s1'], 4.5536768132712)\n",
    "assert np.isclose(V['s2'], 1.6857723431614)"
   ]
  },
  {
   "cell_type": "markdown",
   "metadata": {},
   "source": [
    "## Zadanie 2 - Iteracyjne doskonalenie strategii (*Policy iteration*)\n",
    "\n",
    "<p style='text-align: justify;'>\n",
    "Celem ćwiczenia jest zaimplementowanie algorytmu iteracyjnego doskonalenia strategii. Zadaniem algorytmu jest wyznaczenie optymalnej strategii dla danego środowiska. Pierwszym krokiem algorytmu jest zainicjalizowanie strategii losowymi akcjami, następnie jej ocenienie oraz poprawa, zgodnie ze wzorem:\n",
    "\\begin{equation}\n",
    "    \\pi(s) \\leftarrow  \\text{argmax}_a \\sum_{s'} \\sum_r p(s', r|s, a)[r + \\gamma V(s')]\n",
    "\\end{equation}\n",
    "Jeżeli poprawiona strategia będzie się różniła od poprzedniej, należy ją ponownie ocenić i poprawić. Algorytm kończy działanie w momencie kiedy poprawiona strategia będzie dokładnie taka sama, jak ta poddawana poprawie.\n",
    "</p>"
   ]
  },
  {
   "cell_type": "markdown",
   "metadata": {},
   "source": [
    "Zaimplementuj funkcję do oceny strategii, tylko tym razem przyjmij, że strategia przekazywana na wejściu będzie deteministyczna "
   ]
  },
  {
   "cell_type": "code",
   "execution_count": 37,
   "metadata": {
    "pycharm": {
     "is_executing": false
    }
   },
   "outputs": [],
   "source": [
    "def deterministic_policy_eval_in_place(mdp, policy, gamma, theta):\n",
    "    all_states = mdp.get_all_states()\n",
    "    V = dict()\n",
    "\n",
    "    for state in all_states:\n",
    "        V[state] = 0\n",
    "\n",
    "    while True:\n",
    "        delta = 0\n",
    "        for state in all_states:\n",
    "            valueS = 0\n",
    "            possible_actions = mdp.get_possible_actions(state)\n",
    "            for action in possible_actions:\n",
    "                if policy[state] is action:\n",
    "                    prob_to_take_action = 1\n",
    "                else:\n",
    "                    prob_to_take_action = 0\n",
    "                sum_for_all_end_states = 0\n",
    "                next_states_with_prob_dict = mdp.get_next_states(state, action)\n",
    "                for next_state in next_states_with_prob_dict.keys():\n",
    "                    going_in_that_direction_prob = next_states_with_prob_dict[next_state]\n",
    "                    reward = mdp.get_reward(state, action, next_state)\n",
    "                    next_state_values = going_in_that_direction_prob * (\n",
    "                            reward + gamma * V[next_state])  # p(s', r|s, a)[r + gamma*V(s')]\n",
    "                    sum_for_all_end_states += next_state_values\n",
    "                valueS += prob_to_take_action * sum_for_all_end_states  # PI(a|s) * ...\n",
    "            delta = max(delta, valueS - V[state])\n",
    "            V[state] = valueS\n",
    "        if delta < theta:\n",
    "            print(\"Delta <= theta\")\n",
    "            break\n",
    "    return V"
   ]
  },
  {
   "cell_type": "markdown",
   "metadata": {},
   "source": [
    "Zaimplementuj funkcję do poprawy strategii `policy` na podstawie funkcji oceny `value_function` wyznaczonej dla niej "
   ]
  },
  {
   "cell_type": "code",
   "execution_count": 38,
   "metadata": {
    "pycharm": {
     "is_executing": false
    }
   },
   "outputs": [],
   "source": [
    "def policy_improvement(mdp, policy, value_function, gamma):\n",
    "    \"\"\"\n",
    "            This function improves specified deterministic policy for the specified MDP using value_function:\n",
    "\n",
    "           'mdp' - model of the environment, use following functions:\n",
    "                get_all_states - return list of all states available in the environment\n",
    "                get_possible_actions - return list of possible actions for the given state\n",
    "                get_next_states - return list of possible next states with a probability for transition from state by taking\n",
    "                                  action into next_state\n",
    "\n",
    "           'policy' - the deterministic policy (action for each state), for the given mdp, too improve.\n",
    "           'value_function' - the value function, for the given policy.\n",
    "            'gamma' - discount factor for MDP\n",
    "\n",
    "           Function returns True if policy was improved or False otherwise\n",
    "       \"\"\"\n",
    "\n",
    "    policy_stable = True\n",
    "    strategy_per_action = {}\n",
    "\n",
    "    for state in mdp.get_all_states():\n",
    "        actions = mdp.get_possible_actions(state)\n",
    "        action_values = {}\n",
    "        best_action_value = -90000\n",
    "        for action in actions:\n",
    "            action_value = 0\n",
    "            next_states = mdp.get_next_states(state, action).keys()\n",
    "            for next_state in mdp.get_next_states(state, action).keys():\n",
    "                action_value += mdp.get_next_states(state, action)[next_state] * \\\n",
    "                                (mdp.get_reward(state, action, next_state) + gamma * value_function[next_state])\n",
    "            action_values[action] = action_value\n",
    "            if action_value > best_action_value:\n",
    "                best_action_value = action_value\n",
    "        for action, value in action_values.items():\n",
    "            if value == best_action_value:\n",
    "                if action is not policy[state]:\n",
    "                    policy_stable = False\n",
    "                policy[state] = action\n",
    "                break\n",
    "\n",
    "    print(\"Strategy improvent\")\n",
    "    print(strategy_per_action)\n",
    "    print(policy)\n",
    "    return policy_stable"
   ]
  },
  {
   "cell_type": "markdown",
   "metadata": {},
   "source": [
    "Zaimplementuj funkcję do iteracyjnego doskonalenia strategii"
   ]
  },
  {
   "cell_type": "code",
   "execution_count": 39,
   "metadata": {
    "pycharm": {
     "is_executing": false
    }
   },
   "outputs": [],
   "source": [
    "def policy_iteration(mdp, gamma, theta):\n",
    "\n",
    "    \"\"\"\n",
    "            This function calculate optimal policy for the specified MDP:\n",
    "\n",
    "           'mdp' - model of the environment, use following functions:\n",
    "                get_all_states - return list of all states available in the environment\n",
    "                get_possible_actions - return list of possible actions for the given state\n",
    "                get_next_states - return list of possible next states with a probability for transition from state by taking\n",
    "                                  action into next_state\n",
    "\n",
    "           'gamma' - discount factor for MDP\n",
    "           'theta' - algorithm should stop when minimal difference between previous evaluation of policy and current is smaller\n",
    "                      than theta\n",
    "           Function returns optimal policy and value function for the policy\n",
    "       \"\"\"\n",
    "\n",
    "    policy = dict()\n",
    "\n",
    "    for s in states:\n",
    "        actions = mdp.get_possible_actions(s)\n",
    "        policy[s] = actions[0]\n",
    "\n",
    "    V = deterministic_policy_eval_in_place(mdp, policy, gamma, theta)\n",
    "\n",
    "    policy_stable = False\n",
    "\n",
    "    while not policy_stable:\n",
    "        policy_stable = policy_improvement(mdp, policy, V, gamma)\n",
    "        V = deterministic_policy_eval_in_place(mdp, policy, gamma, theta)\n",
    "\n",
    "\n",
    "    return policy, V"
   ]
  },
  {
   "cell_type": "markdown",
   "metadata": {},
   "source": [
    "Sprawdzenie poprawności zaimplementowanego algorytmu"
   ]
  },
  {
   "cell_type": "code",
   "execution_count": 40,
   "metadata": {
    "pycharm": {
     "is_executing": false
    }
   },
   "outputs": [
    {
     "name": "stdout",
     "output_type": "stream",
     "text": [
      "Delta <= theta\n",
      "Strategy improvent\n",
      "{}\n",
      "{'s0': 'a0', 's1': 'a0', 's2': 'a1'}\n",
      "Delta <= theta\n",
      "Strategy improvent\n",
      "{}\n",
      "{'s0': 'a1', 's1': 'a0', 's2': 'a1'}\n",
      "Delta <= theta\n",
      "Strategy improvent\n",
      "{}\n",
      "{'s0': 'a1', 's1': 'a0', 's2': 'a1'}\n",
      "Delta <= theta\n"
     ]
    }
   ],
   "source": [
    "optimal_policy, optimal_value = policy_iteration(mdp, 0.9, 0.001)\n",
    "\n",
    "assert optimal_policy['s0'] == 'a1'\n",
    "assert optimal_policy['s1'] == 'a0'\n",
    "assert optimal_policy['s2'] == 'a1'\n",
    "\n",
    "assert np.isclose(optimal_value['s0'], 3.78536612814300)\n",
    "assert np.isclose(optimal_value['s1'], 7.29865364527343)\n",
    "assert np.isclose(optimal_value['s2'], 4.20683179007964)"
   ]
  },
  {
   "cell_type": "markdown",
   "metadata": {},
   "source": [
    "## Zadanie 3 - Iteracyjne obliczanie funkcji wartości (*Value iteration*)\n",
    "\n",
    "<p style='text-align: justify;'>\n",
    "Celem ćwiczenia jest zaimplementowanie algorytmu iteracyjnego obliczania funkcji wartości. Algorytm ten łączy w sobie dwa wyżej wspomniane podejścia oceny i wyznaczania optymalnej strategii. Najpierw wyznaczana jest optymalna funkcja wartości stanu zgodnie ze wzorem:\n",
    "\\begin{equation}\n",
    "    V(s) \\leftarrow  \\max_a \\sum_{s'} \\sum_r p(s', r|s, a)[r + \\gamma V(s')].\n",
    "\\end{equation}\n",
    "Po wyznaczeniu optymalnej funkcji wartości dla każdego stanu określana jest strategia postępowania w każdym możliwym stanie zgodnie ze wzorem:\n",
    "\\begin{equation}\n",
    "    \\pi(s) = \\text{argmax}_a \\sum_{s'} \\sum_r p(s', r|s, a)[r + \\gamma V(s')].\n",
    "\\end{equation}\n",
    "</p>"
   ]
  },
  {
   "cell_type": "markdown",
   "metadata": {},
   "source": [
    "Implementacja algorytmu do iteracyjnego obliczania funkcji wartości"
   ]
  },
  {
   "cell_type": "code",
   "execution_count": 41,
   "metadata": {
    "pycharm": {
     "is_executing": false
    }
   },
   "outputs": [],
   "source": [
    "\n",
    "def value_iteration(mdp, gamma, theta):\n",
    "    \"\"\"\n",
    "            This function calculate optimal policy for the specified MDP using Value Iteration approach:\n",
    "\n",
    "            'mdp' - model of the environment, use following functions:\n",
    "                get_all_states - return list of all states available in the environment\n",
    "                get_possible_actions - return list of possible actions for the given state\n",
    "                get_next_states - return list of possible next states with a probability for transition from state by taking\n",
    "                                  action into next_state\n",
    "\n",
    "            'gamma' - discount factor for MDP\n",
    "            'theta' - algorithm should stop when minimal difference between previous evaluation of policy and current is\n",
    "                      smaller than theta\n",
    "            Function returns optimal policy and value function for the policy\n",
    "       \"\"\"\n",
    "\n",
    "\n",
    "\n",
    "    V = dict()\n",
    "    policy = dict()\n",
    "\n",
    "    # init with a policy with first avail action for each state\n",
    "    for current_state in mdp.get_all_states():\n",
    "        V[current_state] = 0\n",
    "        policy[current_state] = actions[0]\n",
    "        \n",
    "    i = 1\n",
    "    while True:\n",
    "        delta = 0\n",
    "        for state in mdp.get_all_states():\n",
    "            valueS = 0\n",
    "            possible_actions = mdp.get_possible_actions(state)\n",
    "            sums_list = []\n",
    "            for action in possible_actions:\n",
    "                sum_for_all_end_states = 0\n",
    "                next_states_with_prob_dict = mdp.get_next_states(state, action)\n",
    "                for next_state in next_states_with_prob_dict.keys():\n",
    "                    going_in_that_direction_prob = next_states_with_prob_dict[next_state]\n",
    "                    reward = mdp.get_reward(state, action, next_state)\n",
    "                    next_state_values = going_in_that_direction_prob * (\n",
    "                            reward + gamma * V[next_state])  # p(s', r|s, a)[r + gamma*V(s')]\n",
    "                    sum_for_all_end_states += next_state_values\n",
    "                sums_list.append(sum_for_all_end_states)\n",
    "                # valueS += prob_to_take_action * sum_for_all_end_states  # PI(a|s) * ...\n",
    "            valueS = max(sums_list)\n",
    "            delta = max(delta, valueS - V[state])\n",
    "            V[state] = valueS\n",
    "            # print(\"Iteration\", i, \", state\", state, \" value =\", valueS)\n",
    "        i += 1\n",
    "        if delta < theta:\n",
    "            # print(\"Delta <= theta\")\n",
    "            break\n",
    "    \n",
    "    policy_improvement(mdp, policy, V, gamma)\n",
    "\n",
    "    return policy, V"
   ]
  },
  {
   "cell_type": "markdown",
   "metadata": {},
   "source": [
    "Sprawdzenie poprawności zaimplementowanego algorytmu"
   ]
  },
  {
   "cell_type": "code",
   "execution_count": 42,
   "metadata": {
    "pycharm": {
     "is_executing": false,
     "name": "#%%\n"
    }
   },
   "outputs": [
    {
     "name": "stdout",
     "output_type": "stream",
     "text": [
      "Strategy improvent\n",
      "{}\n",
      "{'s0': 'a1', 's1': 'a0', 's2': 'a1'}\n"
     ]
    }
   ],
   "source": [
    "optimal_policy, optimal_value = value_iteration(mdp, 0.9, 0.001)\n",
    "\n",
    "assert optimal_policy['s0'] == 'a1'\n",
    "assert optimal_policy['s1'] == 'a0'\n",
    "assert optimal_policy['s2'] == 'a1'\n",
    "\n",
    "assert np.isclose(optimal_value['s0'], 3.78536612814300)\n",
    "assert np.isclose(optimal_value['s1'], 7.29865364527343)\n",
    "assert np.isclose(optimal_value['s2'], 4.20683179007964)\n",
    "\n",
    "\n"
   ]
  }
 ],
 "metadata": {
  "kernelspec": {
   "display_name": "PyCharm (ISI)",
   "language": "python",
   "name": "pycharm-d5f91ddb"
  },
  "language_info": {
   "codemirror_mode": {
    "name": "ipython",
    "version": 3
   },
   "file_extension": ".py",
   "mimetype": "text/x-python",
   "name": "python",
   "nbconvert_exporter": "python",
   "pygments_lexer": "ipython3",
   "version": "3.7.6"
  },
  "pycharm": {
   "stem_cell": {
    "cell_type": "raw",
    "source": [],
    "metadata": {
     "collapsed": false
    }
   }
  }
 },
 "nbformat": 4,
 "nbformat_minor": 4
}
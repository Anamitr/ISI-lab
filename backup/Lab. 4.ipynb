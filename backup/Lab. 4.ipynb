{
 "cells": [
  {
   "cell_type": "markdown",
   "metadata": {},
   "source": [
    "# Laboratorium 4\n",
    "\n",
    "Celem czwartego laboratorium jest zapoznanie się oraz zaimplementowanie algorytmów głębokiego uczenia aktywnego. Zaimplementowane algorytmy będą testowane z wykorzystaniem wcześniej przygotowanych środowisk: *FrozenLake* i *Pacman* oraz środowiska z OpenAI - *CartPole*.\n"
   ]
  },
  {
   "cell_type": "markdown",
   "metadata": {},
   "source": [
    "Dołączenie standardowych bibliotek"
   ]
  },
  {
   "cell_type": "code",
   "execution_count": 4,
   "metadata": {
    "pycharm": {
     "is_executing": false
    }
   },
   "outputs": [],
   "source": [
    "from collections import deque\n",
    "import gym\n",
    "import numpy as np\n",
    "import random\n",
    "import time as tm"
   ]
  },
  {
   "cell_type": "markdown",
   "metadata": {},
   "source": [
    "Dołączenie bibliotek ze środowiskami:"
   ]
  },
  {
   "cell_type": "code",
   "execution_count": 5,
   "metadata": {
    "pycharm": {
     "is_executing": false
    }
   },
   "outputs": [],
   "source": [
    "from env.FrozenLakeMDP import frozenLake\n",
    "from env.FrozenLakeMDPExtended import frozenLakeExtended\n",
    "from gym.envs.classic_control import CartPoleEnv\n"
   ]
  },
  {
   "cell_type": "markdown",
   "metadata": {},
   "source": [
    "Dołączenie bibliotek do obsługi sieci neuronowych"
   ]
  },
  {
   "cell_type": "code",
   "execution_count": 6,
   "metadata": {
    "pycharm": {
     "is_executing": false
    }
   },
   "outputs": [
    {
     "name": "stderr",
     "text": [
      "Using TensorFlow backend.\n"
     ],
     "output_type": "stream"
    }
   ],
   "source": [
    "from keras import Model\n",
    "from keras.layers import Dense\n",
    "from keras.models import Sequential\n",
    "from keras.optimizers import Adam\n",
    "from keras.utils import to_categorical"
   ]
  },
  {
   "cell_type": "markdown",
   "metadata": {},
   "source": [
    "## Zadanie 1 - Deep Q-Network\n",
    "\n",
    "<p style='text-align: justify;'>\n",
    "Celem ćwiczenie jest zaimplementowanie algorytmu Deep Q-Network. Wartoscią oczekiwaną sieci jest:\n",
    "\\begin{equation}\n",
    "        Q(s_t, a_t) = r_{t+1} + \\gamma \\text{max}_a Q(s_{t + 1}, a)\n",
    "\\end{equation}\n",
    "</p>"
   ]
  },
  {
   "cell_type": "code",
   "execution_count": 7,
   "metadata": {
    "pycharm": {
     "is_executing": false
    }
   },
   "outputs": [],
   "source": [
    "class DQNAgent:\n",
    "    def __init__(self, action_size, learning_rate, model: Model, get_legal_actions=None, env=None):\n",
    "        self.action_size = action_size\n",
    "        self.memory = deque(maxlen=2000)\n",
    "        self.gamma = 0.95  # discount rate\n",
    "        self.epsilon = 1.0  # exploration rate\n",
    "        self.epsilon_min = 0.01\n",
    "        self.epsilon_decay = 0.999\n",
    "        self.learning_rate = learning_rate\n",
    "        self.model = model\n",
    "        self.get_legal_actions = get_legal_actions\n",
    "        self.env = env\n",
    "\n",
    "    def remember(self, state, action, reward, next_state, done):\n",
    "        # Function adds information to the memory about last action and its results\n",
    "        self.memory.append((state, action, reward, next_state, done))\n",
    "\n",
    "    def get_action(self, state):\n",
    "        \"\"\"\n",
    "        Compute the action to take in the current state, including exploration.\n",
    "        With probability self.epsilon, we should take a random action.\n",
    "            otherwise - the best policy action (self.get_best_action).\n",
    "\n",
    "        Note: To pick randomly from a list, use random.choice(list).\n",
    "              To pick True or False with a given probablity, generate uniform number in [0, 1]\n",
    "              and compare it with your probability\n",
    "        \"\"\"\n",
    "\n",
    "        #\n",
    "        # INSERT CODE HERE to get action in a given state (according to epsilon greedy algorithm)\n",
    "        #\n",
    "\n",
    "        epsilon = self.epsilon\n",
    "\n",
    "        # Pick Action\n",
    "        if isinstance(env, CartPoleEnv):\n",
    "            if np.random.random() < epsilon:\n",
    "                return self.env.action_space.sample()\n",
    "            else:\n",
    "                return np.argmax(self.model.predict(state)[0])\n",
    "        else:\n",
    "            possible_actions = self.get_legal_actions(state)\n",
    "            if len(possible_actions) == 0:\n",
    "                return None\n",
    "            best_action = self.get_best_action(state)\n",
    "            chosen_action = best_action\n",
    "\n",
    "            if random.uniform(0, 1) < epsilon:\n",
    "                random_actions = possible_actions.copy()\n",
    "                random_actions.remove(best_action)\n",
    "                chosen_action = random.choice(random_actions if random_actions else [best_action])\n",
    "            return chosen_action\n",
    "\n",
    "    def get_best_action(self, state):\n",
    "        \"\"\"\n",
    "        Compute the best action to take in a state (using current q-values).\n",
    "        \"\"\"\n",
    "        if isinstance(env, CartPoleEnv):\n",
    "            possible_actions = self.env.action_space\n",
    "        else:\n",
    "            possible_actions = self.get_legal_actions(state)\n",
    "            if len(possible_actions) == 0:\n",
    "                return None\n",
    "\n",
    "        return np.argmax(self.model.predict(state))\n",
    "\n",
    "    def lower_epsilon(self):\n",
    "        new_epsilon = self.epsilon * self.epsilon_decay\n",
    "        if new_epsilon >= self.epsilon_min:\n",
    "            self.epsilon = new_epsilon\n",
    "\n",
    "    def replay(self, batch_size):\n",
    "        \"\"\"\n",
    "        Function learn network using randomly selected actions from the memory.\n",
    "        First calculates Q value for the next state and choose action with the biggest value.\n",
    "        Target value is calculated according to:\n",
    "                Q(s,a) := (r + gamma * max_a(Q(s', a)))\n",
    "        except the situation when the next action is the last action, in such case Q(s, a) := r.\n",
    "        In order to change only those weights responsible for chosing given action, the rest values should be those\n",
    "        returned by the network for state state.\n",
    "        The network should be trained on batch_size samples.\n",
    "        Also every time the function replay is called self.epsilon value should be updated according to equation:\n",
    "        self.epsilon *= self.epsilon_decay\n",
    "        \"\"\"\n",
    "        #\n",
    "        # INSERT CODE HERE to train network\n",
    "        #\n",
    "\n",
    "        if len(self.memory) < batch_size:\n",
    "            return\n",
    "\n",
    "        info_sets = random.sample(self.memory, batch_size)\n",
    "        states_list = []\n",
    "        targets_list = []\n",
    "        for info_set in info_sets:\n",
    "            state, action, reward, next_state, done = info_set\n",
    "            states_list.append(state.flatten())\n",
    "            target = self.model.predict(state)\n",
    "            if done:\n",
    "                target[0][action] = reward\n",
    "            else:\n",
    "                Q_future = max(self.model.predict(next_state)[0])\n",
    "                target[0][action] = reward + Q_future * self.gamma\n",
    "            targets_list.append(target.flatten())\n",
    "\n",
    "        states_array = np.array(states_list)\n",
    "        targets_array = np.array(targets_list)\n",
    "\n",
    "        self.model.train_on_batch(states_array, targets_array)\n",
    "        self.lower_epsilon()\n"
   ]
  },
  {
   "cell_type": "markdown",
   "metadata": {},
   "source": [
    "Czas przygotować model sieci, która będzie się uczyła poruszania po środowisku *FrozenLake*, warstwa wejściowa powinna mieć tyle neuronów ile jest możlliwych stanów, warstwa wyjściowa tyle neuronów ile jest możliwych akcji do wykonania:"
   ]
  },
  {
   "cell_type": "code",
   "execution_count": 8,
   "metadata": {
    "pycharm": {
     "is_executing": false
    }
   },
   "outputs": [],
   "source": [
    "env = frozenLake(\"4x4\")\n",
    "\n",
    "state_size = env.get_number_of_states()\n",
    "action_size = len(env.get_possible_actions(None))\n",
    "learning_rate = 0.001\n",
    "\n",
    "model = Sequential()\n",
    "model.add(Dense(16, input_dim=state_size, activation=\"relu\"))\n",
    "model.add(Dense(32, activation=\"relu\"))\n",
    "model.add(Dense(16, activation=\"relu\"))\n",
    "model.add(Dense(action_size))  # wyjście\n",
    "model.compile(loss=\"mean_squared_error\",\n",
    "              optimizer=Adam(lr=learning_rate))"
   ]
  },
  {
   "cell_type": "markdown",
   "metadata": {},
   "source": [
    " Czas nauczyć agenta poruszania się po środowisku *FrozenLake*, jako stan przyjmij wektor o liczbie elementów równej liczbie możliwych stanów, z wartością 1 ustawioną w komórce o indeksie równym aktualnemu stanowi, pozostałe elementy mają być wypełnione zerami:"
   ]
  },
  {
   "cell_type": "code",
   "execution_count": 9,
   "metadata": {
    "pycharm": {
     "is_executing": false
    }
   },
   "outputs": [
    {
     "name": "stdout",
     "text": [
      "epoch #0\tmean reward = 0.030\tepsilon = 0.913\ttime = 11.518755674362183\n",
      "epoch #1\tmean reward = 0.000\tepsilon = 0.826\ttime = 10.277201890945435\n",
      "epoch #2\tmean reward = 0.000\tepsilon = 0.747\ttime = 10.0339674949646\n",
      "epoch #3\tmean reward = 0.010\tepsilon = 0.676\ttime = 9.654991626739502\n",
      "epoch #4\tmean reward = 0.040\tepsilon = 0.612\ttime = 9.37389087677002\n",
      "epoch #5\tmean reward = 0.040\tepsilon = 0.554\ttime = 9.524007797241211\n",
      "epoch #6\tmean reward = 0.080\tepsilon = 0.501\ttime = 9.860939979553223\n",
      "epoch #7\tmean reward = 0.090\tepsilon = 0.453\ttime = 9.535884141921997\n",
      "You Win!\n"
     ],
     "output_type": "stream"
    }
   ],
   "source": [
    "agent = DQNAgent(action_size, learning_rate, model, get_legal_actions=env.get_possible_actions)\n",
    "\n",
    "done = False\n",
    "batch_size = 64\n",
    "EPISODES = 1000\n",
    "counter = 0\n",
    "\n",
    "for e in range(EPISODES):\n",
    "    start = tm.time()\n",
    "    summary = []\n",
    "    for _ in range(100):\n",
    "        total_reward = 0\n",
    "        env_state = env.reset()\n",
    "\n",
    "        #\n",
    "        # INSERT CODE HERE to prepare appropriate format of the state for network\n",
    "        #\n",
    "        state = np.array([to_categorical(env_state, num_classes=state_size)])\n",
    "\n",
    "        for time in range(500):\n",
    "            action = agent.get_action(state)\n",
    "            next_state_env, reward, done, _ = env.step(action)\n",
    "            total_reward += reward\n",
    "\n",
    "            #\n",
    "            # INSERT CODE HERE to prepare appropriate format of the next state for network\n",
    "            #\n",
    "            next_state = np.array([to_categorical(next_state_env, num_classes=state_size)])\n",
    "\n",
    "            # add to experience memory\n",
    "            agent.remember(state, action, reward, next_state, done)\n",
    "            state = next_state\n",
    "            if done:\n",
    "                break\n",
    "\n",
    "        #\n",
    "        # INSERT CODE HERE to train network if in the memory is more samples then size of the batch\n",
    "        #\n",
    "        if len(agent.memory) > batch_size:\n",
    "            agent.replay(64)\n",
    "\n",
    "        summary.append(total_reward)\n",
    "\n",
    "    end = tm.time()\n",
    "    print(\"epoch #{}\\tmean reward = {:.3f}\\tepsilon = {:.3f}\\ttime = {}\".format(e, np.mean(summary), agent.epsilon,\n",
    "                                                                                end - start))\n",
    "    if np.mean(total_reward) > 0.9:\n",
    "        print(\"You Win!\")\n",
    "        # Should win after 4 to 8 episodes\n",
    "        break"
   ]
  },
  {
   "cell_type": "markdown",
   "metadata": {},
   "source": [
    "Czas przygotować model sieci, która będzie się uczyła poruszania po środowisku *FrozenLakeExtended*, tym razem stan nie jest określany poprzez pojedynczą liczbę, a przez 3 tablice:\n",
    "* pierwsza zawierająca informacje o celu,\n",
    "* druga zawierająca informacje o dziurach,\n",
    "* trzecia zawierająca informację o położeniu gracza."
   ]
  },
  {
   "cell_type": "code",
   "execution_count": 7,
   "metadata": {
    "pycharm": {
     "is_executing": false
    }
   },
   "outputs": [],
   "source": [
    "env = frozenLakeExtended(\"4x4\")\n",
    "\n",
    "state_size = env.get_number_of_states()*3\n",
    "action_size = len(env.get_possible_actions(None))\n",
    "learning_rate = 0.001\n",
    "\n",
    "model = Sequential()\n",
    "model.add(Dense(16, input_dim=state_size, activation=\"relu\"))\n",
    "model.add(Dense(32, activation=\"relu\"))\n",
    "model.add(Dense(16, activation=\"relu\"))\n",
    "model.add(Dense(action_size))  # wyjście\n",
    "model.compile(loss=\"mean_squared_error\",\n",
    "              optimizer=Adam(lr=learning_rate))"
   ]
  },
  {
   "cell_type": "markdown",
   "metadata": {},
   "source": [
    " Czas nauczyć agenta poruszania się po środowisku *FrozenLakeExtended*, jako stan przyjmij wektor składający się ze wszystkich trzech tablic:"
   ]
  },
  {
   "cell_type": "code",
   "execution_count": 8,
   "metadata": {
    "pycharm": {
     "is_executing": false
    }
   },
   "outputs": [
    {
     "name": "stdout",
     "output_type": "stream",
     "text": [
      "epoch #0\tmean reward = 0.010\tepsilon = 0.905\ttime = 13.993134498596191\n",
      "epoch #1\tmean reward = 0.010\tepsilon = 0.819\ttime = 9.429208517074585\n",
      "epoch #2\tmean reward = 0.010\tepsilon = 0.741\ttime = 9.285630464553833\n",
      "epoch #3\tmean reward = 0.020\tepsilon = 0.670\ttime = 10.799579381942749\n",
      "epoch #4\tmean reward = 0.010\tepsilon = 0.606\ttime = 9.596582412719727\n",
      "epoch #5\tmean reward = 0.070\tepsilon = 0.549\ttime = 9.35084867477417\n",
      "epoch #6\tmean reward = 0.190\tepsilon = 0.496\ttime = 9.934166193008423\n",
      "epoch #7\tmean reward = 0.250\tepsilon = 0.449\ttime = 9.886844158172607\n",
      "epoch #8\tmean reward = 0.240\tepsilon = 0.406\ttime = 9.796828746795654\n",
      "epoch #9\tmean reward = 0.230\tepsilon = 0.368\ttime = 9.335887670516968\n",
      "epoch #10\tmean reward = 0.340\tepsilon = 0.333\ttime = 9.331056118011475\n",
      "epoch #11\tmean reward = 0.540\tepsilon = 0.301\ttime = 9.226623058319092\n",
      "You Win!\n"
     ]
    }
   ],
   "source": [
    "agent = DQNAgent(action_size, learning_rate, model, get_legal_actions=env.get_possible_actions)\n",
    "\n",
    "done = False\n",
    "batch_size = 64\n",
    "EPISODES = 2000\n",
    "counter = 0\n",
    "for e in range(EPISODES):\n",
    "    start = tm.time()\n",
    "    summary = []\n",
    "    for _ in range(100):\n",
    "        total_reward = 0\n",
    "        env_state = env.reset()\n",
    "\n",
    "        #\n",
    "        # INSERT CODE HERE to prepare appropriate format of the state for network\n",
    "        #\n",
    "        state = np.array([np.array(env_state).flatten()])\n",
    "\n",
    "        for time in range(1000):\n",
    "            action = agent.get_action(state)\n",
    "            next_state_env, reward, done, _ = env.step(action)\n",
    "            total_reward += reward\n",
    "\n",
    "            #\n",
    "            # INSERT CODE HERE to prepare appropriate format of the next state for network\n",
    "            #\n",
    "            next_state = np.array([np.array(next_state_env).flatten()])\n",
    "\n",
    "            # add to experience memory\n",
    "            agent.remember(state, action, reward, next_state, done)\n",
    "            state = next_state\n",
    "            if done:\n",
    "                break\n",
    "\n",
    "        #\n",
    "        # INSERT CODE HERE to train network if in the memory is more samples then size of the batch\n",
    "        #\n",
    "        if len(agent.memory) > batch_size:\n",
    "            agent.replay(64)\n",
    "\n",
    "        summary.append(total_reward)\n",
    "\n",
    "    end = tm.time()\n",
    "    print(\"epoch #{}\\tmean reward = {:.3f}\\tepsilon = {:.3f}\\ttime = {}\".format(e, np.mean(summary), agent.epsilon,\n",
    "                                                                                end - start))\n",
    "    if np.mean(total_reward) > 0.9:\n",
    "        print(\"You Win!\")\n",
    "        break"
   ]
  },
  {
   "cell_type": "markdown",
   "metadata": {},
   "source": [
    "Czas przygotować model sieci, która będzie się uczyła działania w środowisku [*CartPool*](https://gym.openai.com/envs/CartPole-v0/):"
   ]
  },
  {
   "cell_type": "code",
   "execution_count": 9,
   "metadata": {
    "pycharm": {
     "is_executing": false
    }
   },
   "outputs": [],
   "source": [
    "env = gym.make(\"CartPole-v0\").env\n",
    "state_size = env.observation_space.shape[0]\n",
    "action_size = env.action_space.n\n",
    "learning_rate = 0.001\n",
    "\n",
    "model = Sequential()\n",
    "model.add(Dense(16, input_dim=state_size, activation=\"relu\"))\n",
    "model.add(Dense(32, activation=\"relu\"))\n",
    "model.add(Dense(16, activation=\"relu\"))\n",
    "model.add(Dense(action_size))  # wyjście\n",
    "model.compile(loss=\"mean_squared_error\",\n",
    "              optimizer=Adam(lr=learning_rate))"
   ]
  },
  {
   "cell_type": "markdown",
   "metadata": {},
   "source": [
    "Czas nauczyć agenta gry w środowisku *CartPool*:"
   ]
  },
  {
   "cell_type": "code",
   "execution_count": 10,
   "metadata": {
    "pycharm": {
     "is_executing": false
    }
   },
   "outputs": [
    {
     "name": "stdout",
     "output_type": "stream",
     "text": [
      "epoch #0\tmean reward = 25.930\tepsilon = 0.908\ttime = 9.370\n",
      "epoch #1\tmean reward = 19.140\tepsilon = 0.822\ttime = 9.508\n",
      "epoch #2\tmean reward = 15.750\tepsilon = 0.744\ttime = 9.413\n",
      "epoch #3\tmean reward = 17.560\tepsilon = 0.673\ttime = 9.604\n",
      "epoch #4\tmean reward = 32.870\tepsilon = 0.609\ttime = 10.047\n",
      "epoch #5\tmean reward = 40.360\tepsilon = 0.551\ttime = 10.731\n",
      "epoch #6\tmean reward = 49.210\tepsilon = 0.498\ttime = 10.990\n",
      "epoch #7\tmean reward = 58.520\tepsilon = 0.451\ttime = 11.813\n",
      "epoch #8\tmean reward = 88.360\tepsilon = 0.408\ttime = 13.184\n",
      "epoch #9\tmean reward = 104.980\tepsilon = 0.369\ttime = 14.313\n",
      "epoch #10\tmean reward = 150.770\tepsilon = 0.334\ttime = 17.213\n",
      "epoch #11\tmean reward = 207.800\tepsilon = 0.302\ttime = 20.636\n",
      "You Win!\n"
     ]
    }
   ],
   "source": [
    "agent = DQNAgent(action_size, learning_rate, model, env=env)\n",
    "\n",
    "done = False\n",
    "batch_size = 64\n",
    "EPISODES = 2000\n",
    "counter = 0\n",
    "for e in range(EPISODES):\n",
    "    start = tm.time()\n",
    "    summary = []\n",
    "    for _ in range(100):\n",
    "        total_reward = 0\n",
    "        env_state = env.reset()\n",
    "\n",
    "        #\n",
    "        # INSERT CODE HERE to prepare appropriate format of the state for network\n",
    "        #\n",
    "        state = np.array([np.array(env_state).flatten()])\n",
    "\n",
    "        for time in range(1000):\n",
    "            action = agent.get_action(state)\n",
    "            next_state_env, reward, done, _ = env.step(action)\n",
    "            total_reward += reward\n",
    "\n",
    "            #\n",
    "            # INSERT CODE HERE to prepare appropriate format of the next state for network\n",
    "            #\n",
    "            next_state = np.array([np.array(next_state_env).flatten()])\n",
    "\n",
    "            # add to experience memory\n",
    "            agent.remember(state, action, reward, next_state, done)\n",
    "            state = next_state\n",
    "            if done:\n",
    "                break\n",
    "\n",
    "        #\n",
    "        # INSERT CODE HERE to train network if in the memory is more samples then size of the batch\n",
    "        #\n",
    "        if len(agent.memory) > batch_size:\n",
    "            agent.replay(64)\n",
    "\n",
    "        summary.append(total_reward)\n",
    "\n",
    "    end = tm.time()\n",
    "    print(\"epoch #{}\\tmean reward = {:.3f}\\tepsilon = {:.3f}\\ttime = {:.3f}\".format(e, np.mean(summary), agent.epsilon,\n",
    "                                                                                    end - start))\n",
    "    if np.mean(total_reward) > 195:\n",
    "        print(\"You Win!\")\n",
    "        break"
   ]
  }
 ],
 "metadata": {
  "kernelspec": {
   "display_name": "Python 3",
   "language": "python",
   "name": "python3"
  },
  "language_info": {
   "codemirror_mode": {
    "name": "ipython",
    "version": 3
   },
   "file_extension": ".py",
   "mimetype": "text/x-python",
   "name": "python",
   "nbconvert_exporter": "python",
   "pygments_lexer": "ipython3",
   "version": "3.7.6"
  },
  "pycharm": {
   "stem_cell": {
    "cell_type": "raw",
    "metadata": {
     "collapsed": false
    },
    "source": []
   }
  }
 },
 "nbformat": 4,
 "nbformat_minor": 4
}
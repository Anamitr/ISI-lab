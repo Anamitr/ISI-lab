{
 "cells": [
  {
   "metadata": {},
   "cell_type": "markdown",
   "source": [
    "# Laboratorium 4\n",
    "\n",
    "Celem czwartego laboratorium jest zapoznanie się oraz zaimplementowanie algorytmów głębokiego uczenia aktywnego. Zaimplementowane algorytmy będą testowane z wykorzystaniem wcześniej przygotowanych środowisk: *FrozenLake* i *Pacman* oraz środowiska z OpenAI - *CartPole*.\n"
   ]
  },
  {
   "metadata": {},
   "cell_type": "markdown",
   "source": [
    "Dołączenie standardowych bibliotek"
   ]
  },
  {
   "metadata": {
    "trusted": true,
    "pycharm": {
     "is_executing": false
    }
   },
   "cell_type": "code",
   "source": [
    "from collections import deque\n",
    "import gym\n",
    "import numpy as np\n",
    "import random\n",
    "import time as tm"
   ],
   "execution_count": 1,
   "outputs": []
  },
  {
   "metadata": {},
   "cell_type": "markdown",
   "source": [
    "Dołączenie bibliotek ze środowiskami:"
   ]
  },
  {
   "metadata": {
    "trusted": true,
    "pycharm": {
     "is_executing": false
    }
   },
   "cell_type": "code",
   "source": [
    "from env.FrozenLakeMDP import frozenLake\n",
    "from env.FrozenLakeMDPExtended import frozenLakeExtended\n"
   ],
   "execution_count": 2,
   "outputs": []
  },
  {
   "metadata": {},
   "cell_type": "markdown",
   "source": [
    "Dołączenie bibliotek do obsługi sieci neuronowych"
   ]
  },
  {
   "metadata": {
    "trusted": true,
    "pycharm": {
     "is_executing": false
    }
   },
   "cell_type": "code",
   "source": [
    "from keras import Model\n",
    "from keras.layers import Dense\n",
    "from keras.models import Sequential\n",
    "from keras.optimizers import Adam\n",
    "from keras.utils import to_categorical"
   ],
   "execution_count": 3,
   "outputs": [
    {
     "name": "stderr",
     "text": [
      "Using TensorFlow backend.\n"
     ],
     "output_type": "stream"
    }
   ]
  },
  {
   "metadata": {},
   "cell_type": "markdown",
   "source": [
    "## Zadanie 1 - Deep Q-Network\n",
    "\n",
    "<p style='text-align: justify;'>\n",
    "Celem ćwiczenie jest zaimplementowanie algorytmu Deep Q-Network. Wartoscią oczekiwaną sieci jest:\n",
    "\\begin{equation}\n",
    "        Q(s_t, a_t) = r_{t+1} + \\gamma \\text{max}_a Q(s_{t + 1}, a)\n",
    "\\end{equation}\n",
    "</p>"
   ]
  },
  {
   "metadata": {
    "trusted": true,
    "pycharm": {
     "is_executing": false
    }
   },
   "cell_type": "code",
   "source": [
    "class DQNAgent:\n",
    "    def __init__(self, action_size, learning_rate, model: Model, get_legal_actions):\n",
    "        self.action_size = action_size\n",
    "        self.memory = deque(maxlen=2000)\n",
    "        self.gamma = 0.95  # discount rate\n",
    "        self.epsilon = 1.0  # exploration rate\n",
    "        self.epsilon_min = 0.01\n",
    "        self.epsilon_decay = 0.999\n",
    "        self.learning_rate = learning_rate\n",
    "        self.model = model\n",
    "        self.get_legal_actions = get_legal_actions\n",
    "\n",
    "    def remember(self, state, action, reward, next_state, done):\n",
    "        # Function adds information to the memory about last action and its results\n",
    "        self.memory.append((state, action, reward, next_state, done))\n",
    "\n",
    "    def get_action(self, state):\n",
    "        \"\"\"\n",
    "        Compute the action to take in the current state, including exploration.\n",
    "        With probability self.epsilon, we should take a random action.\n",
    "            otherwise - the best policy action (self.get_best_action).\n",
    "\n",
    "        Note: To pick randomly from a list, use random.choice(list).\n",
    "              To pick True or False with a given probablity, generate uniform number in [0, 1]\n",
    "              and compare it with your probability\n",
    "        \"\"\"\n",
    "\n",
    "        #\n",
    "        # INSERT CODE HERE to get action in a given state (according to epsilon greedy algorithm)\n",
    "        #\n",
    "\n",
    "        # Pick Action\n",
    "        possible_actions = self.get_legal_actions(state)\n",
    "\n",
    "        # If there are no legal actions, return None\n",
    "        if len(possible_actions) == 0:\n",
    "            return None\n",
    "\n",
    "        epsilon = self.epsilon\n",
    "\n",
    "        #\n",
    "        # INSERT CODE HERE to get action in a given state (according to epsilon greedy algorithm)\n",
    "        #\n",
    "\n",
    "        best_action = self.get_best_action(state)\n",
    "        chosen_action = best_action\n",
    "\n",
    "        if random.uniform(0, 1) < epsilon:\n",
    "            random_actions = possible_actions.copy()\n",
    "            random_actions.remove(best_action)\n",
    "            chosen_action = random.choice(random_actions if random_actions else [best_action])\n",
    "\n",
    "        return chosen_action\n",
    "\n",
    "    def get_best_action(self, state):\n",
    "        \"\"\"\n",
    "        Compute the best action to take in a state (using current q-values).\n",
    "        \"\"\"\n",
    "        possible_actions = self.get_legal_actions(state)\n",
    "\n",
    "        # If there are no legal actions, return None\n",
    "        if len(possible_actions) == 0:\n",
    "            return None\n",
    "\n",
    "        return np.argmax(self.model.predict(state))\n",
    "\n",
    "    def lower_epsilon(self):\n",
    "        new_epsilon = self.epsilon * self.epsilon_decay\n",
    "        if new_epsilon >= self.epsilon_min:\n",
    "            self.epsilon = new_epsilon\n",
    "\n",
    "    def replay(self, batch_size):\n",
    "        \"\"\"\n",
    "        Function learn network using randomly selected actions from the memory.\n",
    "        First calculates Q value for the next state and choose action with the biggest value.\n",
    "        Target value is calculated according to:\n",
    "                Q(s,a) := (r + gamma * max_a(Q(s', a)))\n",
    "        except the situation when the next action is the last action, in such case Q(s, a) := r.\n",
    "        In order to change only those weights responsible for chosing given action, the rest values should be those\n",
    "        returned by the network for state state.\n",
    "        The network should be trained on batch_size samples.\n",
    "        Also every time the function replay is called self.epsilon value should be updated according to equation:\n",
    "        self.epsilon *= self.epsilon_decay\n",
    "        \"\"\"\n",
    "        #\n",
    "        # INSERT CODE HERE to train network\n",
    "        #\n",
    "\n",
    "        if len(self.memory) < batch_size:\n",
    "            return\n",
    "\n",
    "        info_sets = random.sample(self.memory, batch_size)\n",
    "        states_list = []\n",
    "        targets_list = []\n",
    "        for info_set in info_sets:\n",
    "            state, action, reward, next_state, done = info_set\n",
    "            states_list.append(state.flatten())\n",
    "            target = self.model.predict(state)\n",
    "            if done:\n",
    "                target[0][action] = reward\n",
    "            else:\n",
    "                Q_future = max(self.model.predict(next_state)[0])\n",
    "                target[0][action] = reward + Q_future * self.gamma\n",
    "            targets_list.append(target.flatten())\n",
    "\n",
    "        states_array = np.array(states_list)\n",
    "        targets_array = np.array(targets_list)\n",
    "\n",
    "        self.model.train_on_batch(states_array, targets_array)\n",
    "        self.lower_epsilon()\n",
    "\n"
   ],
   "execution_count": 4,
   "outputs": []
  },
  {
   "metadata": {},
   "cell_type": "markdown",
   "source": [
    "Czas przygotować model sieci, która będzie się uczyła poruszania po środowisku *FrozenLake*, warstwa wejściowa powinna mieć tyle neuronów ile jest możlliwych stanów, warstwa wyjściowa tyle neuronów ile jest możliwych akcji do wykonania:"
   ]
  },
  {
   "metadata": {
    "trusted": true,
    "pycharm": {
     "is_executing": false
    }
   },
   "cell_type": "code",
   "source": [
    "env = frozenLake(\"4x4\")\n",
    "\n",
    "state_size = env.get_number_of_states()\n",
    "action_size = len(env.get_possible_actions(None))\n",
    "learning_rate = 0.001\n",
    "\n",
    "model = Sequential()\n",
    "model.add(Dense(16, input_dim=state_size, activation=\"relu\"))\n",
    "model.add(Dense(32, activation=\"relu\"))\n",
    "model.add(Dense(16, activation=\"relu\"))\n",
    "model.add(Dense(action_size))  # wyjście\n",
    "model.compile(loss=\"mean_squared_error\",\n",
    "              optimizer=Adam(lr=learning_rate))"
   ],
   "execution_count": 5,
   "outputs": []
  },
  {
   "metadata": {},
   "cell_type": "markdown",
   "source": [
    " Czas nauczyć agenta poruszania się po środowisku *FrozenLake*, jako stan przyjmij wektor o liczbie elementów równej liczbie możliwych stanów, z wartością 1 ustawioną w komórce o indeksie równym aktualnemu stanowi, pozostałe elementy mają być wypełnione zerami:"
   ]
  },
  {
   "metadata": {
    "trusted": true,
    "pycharm": {
     "is_executing": false
    }
   },
   "cell_type": "code",
   "source": [
    "agent = DQNAgent(action_size, learning_rate, model, get_legal_actions=env.get_possible_actions)\n",
    "\n",
    "done = False\n",
    "batch_size = 64\n",
    "EPISODES = 1000\n",
    "counter = 0\n",
    "\n",
    "for e in range(EPISODES):\n",
    "    start = tm.time()\n",
    "    summary = []\n",
    "    for _ in range(100):\n",
    "        total_reward = 0\n",
    "        env_state = env.reset()\n",
    "\n",
    "        #\n",
    "        # INSERT CODE HERE to prepare appropriate format of the state for network\n",
    "        #\n",
    "        state = np.array([to_categorical(env_state, num_classes=state_size)])\n",
    "\n",
    "        for time in range(500):\n",
    "            action = agent.get_action(state)\n",
    "            next_state_env, reward, done, _ = env.step(action)\n",
    "            total_reward += reward\n",
    "\n",
    "            #\n",
    "            # INSERT CODE HERE to prepare appropriate format of the next state for network\n",
    "            #\n",
    "            next_state = np.array([to_categorical(next_state_env, num_classes=state_size)])\n",
    "\n",
    "            # add to experience memory\n",
    "            agent.remember(state, action, reward, next_state, done)\n",
    "            state = next_state\n",
    "            if done:\n",
    "                break\n",
    "\n",
    "        #\n",
    "        # INSERT CODE HERE to train network if in the memory is more samples then size of the batch\n",
    "        #\n",
    "        if len(agent.memory) > batch_size:\n",
    "            agent.replay(64)\n",
    "\n",
    "        summary.append(total_reward)\n",
    "\n",
    "    end = tm.time()\n",
    "    print(\"epoch #{}\\tmean reward = {:.3f}\\tepsilon = {:.3f}\\ttime = {}\".format(e, np.mean(summary), agent.epsilon,\n",
    "                                                                                end - start))\n",
    "    if np.mean(total_reward) > 0.9:\n",
    "        print(\"You Win!\")\n",
    "        # Should win after 4 to 8 episodes\n",
    "        break"
   ],
   "execution_count": 9,
   "outputs": [
    {
     "name": "stdout",
     "text": [
      "epoch #0\tmean reward = 0.020\tepsilon = 0.909\ttime = 9.738511562347412\n",
      "epoch #1\tmean reward = 0.000\tepsilon = 0.823\ttime = 9.676661729812622\n",
      "epoch #2\tmean reward = 0.010\tepsilon = 0.744\ttime = 8.897660493850708\n",
      "epoch #3\tmean reward = 0.010\tepsilon = 0.674\ttime = 9.004772901535034\n",
      "epoch #4\tmean reward = 0.060\tepsilon = 0.609\ttime = 9.067475318908691\n",
      "epoch #5\tmean reward = 0.100\tepsilon = 0.551\ttime = 9.195916414260864\n",
      "epoch #6\tmean reward = 0.100\tepsilon = 0.499\ttime = 9.140957117080688\n",
      "epoch #7\tmean reward = 0.100\tepsilon = 0.451\ttime = 9.317103385925293\n",
      "epoch #8\tmean reward = 0.090\tepsilon = 0.408\ttime = 9.387484073638916\n",
      "You Win!\n"
     ],
     "output_type": "stream"
    }
   ]
  },
  {
   "metadata": {},
   "cell_type": "markdown",
   "source": [
    "Czas przygotować model sieci, która będzie się uczyła poruszania po środowisku *FrozenLakeExtended*, tym razem stan nie jest określany poprzez pojedynczą liczbę, a przez 3 tablice:\n",
    "* pierwsza zawierająca informacje o celu,\n",
    "* druga zawierająca informacje o dziurach,\n",
    "* trzecia zawierająca informację o położeniu gracza."
   ]
  },
  {
   "metadata": {
    "trusted": true,
    "pycharm": {
     "is_executing": false
    }
   },
   "cell_type": "code",
   "source": [
    "env = frozenLakeExtended(\"4x4\")\n",
    "\n",
    "state_size = env.get_number_of_states()*3\n",
    "action_size = len(env.get_possible_actions(None))\n",
    "learning_rate = 0.001\n",
    "\n",
    "model = Sequential()\n",
    "model.add(Dense(16, input_dim=state_size, activation=\"relu\"))\n",
    "model.add(Dense(32, activation=\"relu\"))\n",
    "model.add(Dense(16, activation=\"relu\"))\n",
    "model.add(Dense(action_size))  # wyjście\n",
    "model.compile(loss=\"mean_squared_error\",\n",
    "              optimizer=Adam(lr=learning_rate))"
   ],
   "execution_count": 7,
   "outputs": []
  },
  {
   "metadata": {},
   "cell_type": "markdown",
   "source": [
    " Czas nauczyć agenta poruszania się po środowisku *FrozenLakeExtended*, jako stan przyjmij wektor składający się ze wszystkich trzech tablic:"
   ]
  },
  {
   "metadata": {
    "trusted": true,
    "pycharm": {
     "is_executing": false
    }
   },
   "cell_type": "code",
   "source": [
    "agent = DQNAgent(action_size, learning_rate, model, get_legal_actions=env.get_possible_actions)\n",
    "\n",
    "done = False\n",
    "batch_size = 64\n",
    "EPISODES = 2000\n",
    "counter = 0\n",
    "for e in range(EPISODES):\n",
    "    start = tm.time()\n",
    "    summary = []\n",
    "    for _ in range(100):\n",
    "        total_reward = 0\n",
    "        env_state = env.reset()\n",
    "\n",
    "        #\n",
    "        # INSERT CODE HERE to prepare appropriate format of the state for network\n",
    "        #\n",
    "        state = np.array([np.array(env_state).flatten()])\n",
    "\n",
    "        for time in range(1000):\n",
    "            action = agent.get_action(state)\n",
    "            next_state_env, reward, done, _ = env.step(action)\n",
    "            total_reward += reward\n",
    "\n",
    "            #\n",
    "            # INSERT CODE HERE to prepare appropriate format of the next state for network\n",
    "            #\n",
    "            next_state = np.array([np.array(next_state_env).flatten()])\n",
    "\n",
    "            # add to experience memory\n",
    "            agent.remember(state, action, reward, next_state, done)\n",
    "            state = next_state\n",
    "            if done:\n",
    "                break\n",
    "\n",
    "        #\n",
    "        # INSERT CODE HERE to train network if in the memory is more samples then size of the batch\n",
    "        #\n",
    "        if len(agent.memory) > batch_size:\n",
    "            agent.replay(64)\n",
    "\n",
    "        summary.append(total_reward)\n",
    "\n",
    "    end = tm.time()\n",
    "    print(\"epoch #{}\\tmean reward = {:.3f}\\tepsilon = {:.3f}\\ttime = {}\".format(e, np.mean(summary), agent.epsilon,\n",
    "                                                                                end - start))\n",
    "    if np.mean(total_reward) > 0.9:\n",
    "        print(\"You Win!\")\n",
    "        break"
   ],
   "execution_count": 9,
   "outputs": [
    {
     "name": "stdout",
     "text": [
      "epoch #0\tmean reward = 0.020\tepsilon = 0.915\ttime = 8.835481643676758\n",
      "epoch #1\tmean reward = 0.010\tepsilon = 0.828\ttime = 8.968607902526855\n",
      "epoch #2\tmean reward = 0.000\tepsilon = 0.749\ttime = 9.452525615692139\n",
      "epoch #3\tmean reward = 0.020\tepsilon = 0.678\ttime = 9.665018320083618\n",
      "You Win!\n"
     ],
     "output_type": "stream"
    }
   ]
  },
  {
   "cell_type": "markdown",
   "source": [
    "Czas przygotować model sieci, która będzie się uczyła działania w środowisku [*CartPool*](https://gym.openai.com/envs/CartPole-v0/):"
   ],
   "metadata": {
    "collapsed": false
   }
  },
  {
   "metadata": {
    "trusted": true
   },
   "cell_type": "code",
   "source": [
    "env = gym.make(\"CartPole-v0\").env\n",
    "state_size = env.observation_space.shape[0]\n",
    "action_size = env.action_space.n\n",
    "learning_rate = 0.001\n",
    "\n",
    "model =         \n",
    "        #\n",
    "        # INSERT CODE HERE to build network\n",
    "        #"
   ],
   "execution_count": null,
   "outputs": []
  },
  {
   "metadata": {},
   "cell_type": "markdown",
   "source": "Czas nauczyć agenta gry w środowisku *CartPool*:"
  },
  {
   "metadata": {
    "trusted": true
   },
   "cell_type": "code",
   "source": "agent = DQNAgent(action_size, learning_rate, model)\n\nagent.epsilon = 0.75\n\ndone = False\nbatch_size = 64\nEPISODES = 1000\ncounter = 0\nfor e in range(EPISODES):\n    summary = []\n    for _ in range(100):\n        total_reward = 0\n        env_state = env.reset()\n    \n        #\n        # INSERT CODE HERE to prepare appropriate format of the state for network\n        #\n        \n        for time in range(1000):\n            action = agent.get_action(state)\n            next_state_env, reward, done, _ = env.step(action)\n            total_reward += reward\n\n            #\n            # INSERT CODE HERE to prepare appropriate format of the next state for network\n            #\n\n            #add to experience memory\n            agent.remember(state, action, reward, next_state, done)\n            state = next_state\n            if done:\n                break\n\n        #\n        # INSERT CODE HERE to train network if in the memory is more samples then size of the batch\n        #\n        \n        summary.append(total_reward)\n    if np.mean(total_reward) > 195:\n        print (\"You Win!\")\n        break\n    print(\"epoch #{}\\tmean reward = {:.3f}\\tepsilon = {:.3f}\".format(e, np.mean(summary), agent.epsilon))",
   "execution_count": null,
   "outputs": []
  }
 ],
 "metadata": {
  "kernelspec": {
   "name": "python3",
   "display_name": "Python 3",
   "language": "python"
  },
  "language_info": {
   "name": "python",
   "version": "3.6.10",
   "mimetype": "text/x-python",
   "codemirror_mode": {
    "name": "ipython",
    "version": 3
   },
   "pygments_lexer": "ipython3",
   "nbconvert_exporter": "python",
   "file_extension": ".py"
  },
  "pycharm": {
   "stem_cell": {
    "cell_type": "raw",
    "source": [],
    "metadata": {
     "collapsed": false
    }
   }
  }
 },
 "nbformat": 4,
 "nbformat_minor": 4
}
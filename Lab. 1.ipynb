{
 "cells": [
  {
   "cell_type": "markdown",
   "metadata": {},
   "source": [
    "# Laboratorium 1\n",
    "\n",
    "Celem pierwszego laboratorium jest zapoznanie się oraz zaimplementowanie algorytmów uczenia pasywnego. Zaimplementowane algorytmy będą testowane z wykorzystaniem wcześniej przygotowanego środowiska przedstawionego na schemacie poniżej:\n",
    "![MDP, Markov Decision Process](assets/images/mdp.png)"
   ]
  },
  {
   "cell_type": "markdown",
   "metadata": {},
   "source": [
    "Dołączenie biblioteki ze środowiskiem"
   ]
  },
  {
   "cell_type": "code",
   "execution_count": 5,
   "metadata": {
    "pycharm": {
     "is_executing": false
    }
   },
   "outputs": [],
   "source": [
    "from env.simpleMDP import simpleMDP\n",
    "import numpy as np"
   ]
  },
  {
   "cell_type": "markdown",
   "metadata": {},
   "source": [
    "Zapoznanie się z przygotowanym środowiskiem"
   ]
  },
  {
   "cell_type": "code",
   "execution_count": 6,
   "metadata": {
    "pycharm": {
     "is_executing": false
    }
   },
   "outputs": [
    {
     "name": "stdout",
     "text": [
      "['s0', 's1', 's2']\n",
      "State: s0 action: a0 list of possible next states:  {'s0': 0.5, 's2': 0.5}\n",
      "State: s0 action: a1 list of possible next states:  {'s2': 1}\n",
      "State: s1 action: a0 list of possible next states:  {'s0': 0.7, 's1': 0.1, 's2': 0.2}\n",
      "State: s1 action: a1 list of possible next states:  {'s1': 0.95, 's2': 0.05}\n",
      "State: s2 action: a0 list of possible next states:  {'s0': 0.4, 's2': 0.6}\n",
      "State: s2 action: a1 list of possible next states:  {'s0': 0.3, 's1': 0.3, 's2': 0.4}\n"
     ],
     "output_type": "stream"
    }
   ],
   "source": [
    "mdp = simpleMDP()\n",
    "\n",
    "states = mdp.get_all_states()\n",
    "print(states)\n",
    "\n",
    "for s in states:\n",
    "    actions = mdp.get_possible_actions(s)\n",
    "    for a in actions:\n",
    "        next_states = mdp.get_next_states(s, a)\n",
    "        print(\"State: \" + s + \" action: \" + a + \" \" + \"list of possible next states: \", next_states)"
   ]
  },
  {
   "cell_type": "code",
   "source": [
    "# mdp."
   ],
   "metadata": {
    "collapsed": false,
    "pycharm": {
     "name": "#%%\n"
    }
   },
   "execution_count": null,
   "outputs": []
  },
  {
   "cell_type": "markdown",
   "metadata": {},
   "source": [
    "## Zadanie 1 - Ocena strategii (*Policy evaluation*)\n",
    "\n",
    "<p style='text-align: justify;'>\n",
    "Celem ćwiczenie jest zaimplementowanie algorytmu oceny strategii. Algorytm wyznacza funkcję oceny (wartości) strategii wykorzystując równanie Bellmana. Odbywa się to w sposób iteracyjny zgodnie ze wzorem:\n",
    "\\begin{equation}\n",
    "\t        V_{k + 1}(s) = \\sum_a \\pi(a | s) \\sum_{s'} \\sum_r p(s', r|s, a)[r + \\gamma V_k(s')]\n",
    "\\end{equation}\n",
    "</p>"
   ]
  },
  {
   "cell_type": "markdown",
   "metadata": {},
   "source": [
    "Pierwszym krokiem jest zainicjalizowanie strategii, która będzie podlegała ocenie. W tym zadaniu ocenie będzie podlegała strategia stochastyczna, w której będzie prawdopodobieństwo wyboru każdej z możliwych opcji będzie takie samo."
   ]
  },
  {
   "cell_type": "code",
   "execution_count": 9,
   "metadata": {
    "pycharm": {
     "is_executing": false
    }
   },
   "outputs": [
    {
     "name": "stdout",
     "text": [
      "{'s0': {'a0': 0.5, 'a1': 0.5}, 's1': {'a0': 0.5, 'a1': 0.5}, 's2': {'a0': 0.5, 'a1': 0.5}}\n"
     ],
     "output_type": "stream"
    }
   ],
   "source": [
    "policy = dict()\n",
    "\n",
    "for s in states:\n",
    "    actions = mdp.get_possible_actions(s)\n",
    "    action_prob = 1 / len(actions)\n",
    "    policy[s] = dict()\n",
    "    for a in actions:\n",
    "        policy[s][a] = action_prob\n",
    "\n",
    "print(policy)"
   ]
  },
  {
   "cell_type": "markdown",
   "metadata": {},
   "source": [
    "Implementacja algorytmu oceny strategii - podejście z dwiema tablicami"
   ]
  },
  {
   "cell_type": "code",
   "execution_count": null,
   "metadata": {},
   "outputs": [],
   "source": [
    "def policy_eval_two_arrays(mdp, policy, gamma, theta):\n",
    "    \"\"\"\n",
    "    This function uses the two-array approach to evaluate the specified policy for the specified MDP:\n",
    "\n",
    "    'mdp' - model of the environment, use following functions:\n",
    "        get_all_states - return list of all states available in the environment\n",
    "        get_possible_actions - return list of possible actions for the given state\n",
    "        get_next_states - return list of possible next states with a probability for transition from state by taking\n",
    "                          action into next_state\n",
    "\n",
    "    'policy' - the stochastic policy (action probability for each state), for the given mdp, too evaluate\n",
    "    'gamma' - discount factor for MDP\n",
    "    'theta' - algorithm should stop when minimal difference between previous evaluation of policy and current is smaller\n",
    "              than theta\n",
    "    \"\"\"\n",
    "    V = dict()\n",
    "\n",
    "    for s in mdp.get_all_states():\n",
    "        V[s] = 0\n",
    "    #\n",
    "    # INSERT CODE HERE to evaluate the policy using the 2 array approach\n",
    "\n",
    "    return V"
   ]
  },
  {
   "cell_type": "markdown",
   "metadata": {},
   "source": [
    "Sprawdzenie poprawności zaimplementowanego algorytmu"
   ]
  },
  {
   "cell_type": "code",
   "execution_count": 7,
   "metadata": {
    "pycharm": {
     "is_executing": false
    }
   },
   "outputs": [
    {
     "traceback": [
      "\u001b[0;31m---------------------------------------------------------------------------\u001b[0m",
      "\u001b[0;31mNameError\u001b[0m                                 Traceback (most recent call last)",
      "\u001b[0;32m<ipython-input-7-c01560b39721>\u001b[0m in \u001b[0;36m<module>\u001b[0;34m\u001b[0m\n\u001b[0;32m----> 1\u001b[0;31m \u001b[0mV\u001b[0m \u001b[0;34m=\u001b[0m \u001b[0mpolicy_eval_two_arrays\u001b[0m\u001b[0;34m(\u001b[0m\u001b[0mmdp\u001b[0m\u001b[0;34m,\u001b[0m \u001b[0mpolicy\u001b[0m\u001b[0;34m,\u001b[0m \u001b[0;36m0.9\u001b[0m\u001b[0;34m,\u001b[0m \u001b[0;36m0.0001\u001b[0m\u001b[0;34m)\u001b[0m\u001b[0;34m\u001b[0m\u001b[0;34m\u001b[0m\u001b[0m\n\u001b[0m\u001b[1;32m      2\u001b[0m \u001b[0;34m\u001b[0m\u001b[0m\n\u001b[1;32m      3\u001b[0m \u001b[0;32massert\u001b[0m \u001b[0mnp\u001b[0m\u001b[0;34m.\u001b[0m\u001b[0misclose\u001b[0m\u001b[0;34m(\u001b[0m\u001b[0mV\u001b[0m\u001b[0;34m[\u001b[0m\u001b[0;34m's0'\u001b[0m\u001b[0;34m]\u001b[0m\u001b[0;34m,\u001b[0m \u001b[0;36m1.46785443374683\u001b[0m\u001b[0;34m)\u001b[0m\u001b[0;34m\u001b[0m\u001b[0;34m\u001b[0m\u001b[0m\n\u001b[1;32m      4\u001b[0m \u001b[0;32massert\u001b[0m \u001b[0mnp\u001b[0m\u001b[0;34m.\u001b[0m\u001b[0misclose\u001b[0m\u001b[0;34m(\u001b[0m\u001b[0mV\u001b[0m\u001b[0;34m[\u001b[0m\u001b[0;34m's1'\u001b[0m\u001b[0;34m]\u001b[0m\u001b[0;34m,\u001b[0m \u001b[0;36m4.55336594491180\u001b[0m\u001b[0;34m)\u001b[0m\u001b[0;34m\u001b[0m\u001b[0;34m\u001b[0m\u001b[0m\n\u001b[1;32m      5\u001b[0m \u001b[0;32massert\u001b[0m \u001b[0mnp\u001b[0m\u001b[0;34m.\u001b[0m\u001b[0misclose\u001b[0m\u001b[0;34m(\u001b[0m\u001b[0mV\u001b[0m\u001b[0;34m[\u001b[0m\u001b[0;34m's2'\u001b[0m\u001b[0;34m]\u001b[0m\u001b[0;34m,\u001b[0m \u001b[0;36m1.68544141660991\u001b[0m\u001b[0;34m)\u001b[0m\u001b[0;34m\u001b[0m\u001b[0;34m\u001b[0m\u001b[0m\n",
      "\u001b[0;31mNameError\u001b[0m: name 'policy_eval_two_arrays' is not defined"
     ],
     "ename": "NameError",
     "evalue": "name 'policy_eval_two_arrays' is not defined",
     "output_type": "error"
    }
   ],
   "source": [
    "V = policy_eval_two_arrays(mdp, policy, 0.9, 0.0001)\n",
    "\n",
    "assert np.isclose(V['s0'], 1.46785443374683)\n",
    "assert np.isclose(V['s1'], 4.55336594491180)\n",
    "assert np.isclose(V['s2'], 1.68544141660991)"
   ]
  },
  {
   "cell_type": "markdown",
   "metadata": {},
   "source": [
    "Implementacja algorytmu oceny strategii - obliczenia w miejscu"
   ]
  },
  {
   "cell_type": "code",
   "execution_count": 13,
   "metadata": {
    "pycharm": {
     "is_executing": false
    }
   },
   "outputs": [],
   "source": [
    "NUM_OF_ITERATIONS = 5\n",
    "\n",
    "def policy_eval_in_place(mdp, policy, gamma, theta):\n",
    "    \"\"\"\n",
    "    This function uses the in-place approach to evaluate the specified policy for the specified MDP:\n",
    "\n",
    "    'mdp' - model of the environment, use following functions:\n",
    "        get_all_states - return list of all states available in the environment\n",
    "        get_possible_actions - return list of possible actions for the given state\n",
    "        get_next_states - return list of possible next states with a probability for transition from state by taking\n",
    "                          action into next_state\n",
    "\n",
    "    'policy' - the stochastic policy (action probability for each state), for the given mdp, too evaluate.\n",
    "    'gamma' - discount factor for MDP\n",
    "    'theta' - algorithm should stop when minimal difference between previous evaluation of policy and current is smaller\n",
    "              than theta\n",
    "    \"\"\"\n",
    "    all_states = mdp.get_all_states()\n",
    "    V = dict()\n",
    "    # delta = 0\n",
    "    \n",
    "    for state in all_states:\n",
    "        V[state] = 1\n",
    "\n",
    "    for i in range(NUM_OF_ITERATIONS):\n",
    "        copy_V = V.copy()\n",
    "        delta = []\n",
    "        for state in all_states:\n",
    "            valueS = 0\n",
    "            possible_actions = mdp.get_possible_actions(state)\n",
    "            prob_to_take_action = 1/len(possible_actions)\n",
    "            for action in possible_actions:\n",
    "                sum_for_all_end_states = 0\n",
    "                next_states_with_prob_dict = mdp.get_next_states(state, action)\n",
    "                for next_state in next_states_with_prob_dict.keys():\n",
    "                    going_in_that_direction_prob = next_states_with_prob_dict[next_state]\n",
    "                    reward = mdp.get_reward(state, action,  next_state)\n",
    "                    next_state_values = going_in_that_direction_prob * (reward + gamma * V[next_state]) #p(s', r|s, a)[r + gamma*V(s')]\n",
    "                    sum_for_all_end_states += next_state_values\n",
    "                valueS += prob_to_take_action * sum_for_all_end_states\n",
    "        V = copy_V\n",
    "            \n",
    "\n",
    "    # INSERT CODE HERE to evaluate the policy using the 2 array approach\n",
    "\n",
    "    return V"
   ]
  },
  {
   "cell_type": "code",
   "execution_count": 14,
   "outputs": [
    {
     "data": {
      "text/plain": "{'s0': 1, 's1': 1, 's2': 1}"
     },
     "metadata": {},
     "output_type": "execute_result",
     "execution_count": 14
    }
   ],
   "source": [
    "V = policy_eval_in_place(mdp, policy, 0.9, 0.0001)\n",
    "V"
   ],
   "metadata": {
    "collapsed": false,
    "pycharm": {
     "name": "#%%\n",
     "is_executing": false
    }
   }
  },
  {
   "cell_type": "markdown",
   "metadata": {},
   "source": [
    "Sprawdzenie poprawności zaimplementowanego algorytmu"
   ]
  },
  {
   "cell_type": "code",
   "execution_count": null,
   "metadata": {},
   "outputs": [],
   "source": [
    "V = policy_eval_in_place(mdp, policy, 0.9, 0.0001)\n",
    "\n",
    "assert np.isclose(V['s0'], 1.4681508097651)\n",
    "assert np.isclose(V['s1'], 4.5536768132712)\n",
    "assert np.isclose(V['s2'], 1.6857723431614)"
   ]
  },
  {
   "cell_type": "markdown",
   "metadata": {},
   "source": [
    "## Zadanie 2 - Iteracyjne doskonalenie strategii (*Policy iteration*)\n",
    "\n",
    "<p style='text-align: justify;'>\n",
    "Celem ćwiczenia jest zaimplementowanie algorytmu iteracyjnego doskonalenia strategii. Zadaniem algorytmu jest wyznaczenie optymalnej strategii dla danego środowiska. Pierwszym krokiem algorytmu jest zainicjalizowanie strategii losowymi akcjami, następnie jej ocenienie oraz poprawa, zgodnie ze wzorem:\n",
    "\\begin{equation}\n",
    "    \\pi(s) \\leftarrow  \\text{argmax}_a \\sum_{s'} \\sum_r p(s', r|s, a)[r + \\gamma V(s')]\n",
    "\\end{equation}\n",
    "Jeżeli poprawiona strategia będzie się różniła od poprzedniej, należy ją ponownie ocenić i poprawić. Algorytm kończy działanie w momencie kiedy poprawiona strategia będzie dokładnie taka sama, jak ta poddawana poprawie.\n",
    "</p>"
   ]
  },
  {
   "cell_type": "markdown",
   "metadata": {},
   "source": [
    "Zaimplementuj funkcję do oceny strategii, tylko tym razem przyjmij, że strategia przekazywana na wejściu będzie deteministyczna "
   ]
  },
  {
   "cell_type": "code",
   "execution_count": null,
   "metadata": {},
   "outputs": [],
   "source": [
    "def deterministic_policy_eval_in_place(mdp, policy, gamma, theta):\n",
    "    \"\"\"\n",
    "    This function uses the in-place approach to evaluate the specified deterministic policy for the specified MDP:\n",
    "\n",
    "        'mdp' - model of the environment, use following functions:\n",
    "        get_all_states - return list of all states available in the environment\n",
    "        get_possible_actions - return list of possible actions for the given state\n",
    "        get_next_states - return list of possible next states with a probability for transition from state by taking\n",
    "                          action into next_state\n",
    "\n",
    "        'policy' - the deterministic policy (action probability for each state), for the given mdp, too evaluate\n",
    "        'gamma' - discount factor for MDP\n",
    "        'theta' - algorithm should stop when minimal difference between previous evaluation of policy and current is\n",
    "                  smaller than theta\n",
    "    \"\"\"\n",
    "    V = dict()\n",
    "\n",
    "    for s in mdp.get_all_states():\n",
    "        V[s] = 0\n",
    "    #\n",
    "    # INSERT CODE HERE to evaluate the deterministic policy using the in-place approach\n",
    "    #\n",
    "\n",
    "    return V"
   ]
  },
  {
   "cell_type": "markdown",
   "metadata": {},
   "source": [
    "Zaimplementuj funkcję do poprawy strategii `policy` na podstawie funkcji oceny `value_function` wyznaczonej dla niej "
   ]
  },
  {
   "cell_type": "code",
   "execution_count": null,
   "metadata": {},
   "outputs": [],
   "source": [
    "def policy_improvement(mdp, policy, value_function, gamma):\n",
    "    \"\"\"\n",
    "            This function improves specified deterministic policy for the specified MDP using value_function:\n",
    "\n",
    "           'mdp' - model of the environment, use following functions:\n",
    "                get_all_states - return list of all states available in the environment\n",
    "                get_possible_actions - return list of possible actions for the given state\n",
    "                get_next_states - return list of possible next states with a probability for transition from state by taking\n",
    "                                  action into next_state\n",
    "\n",
    "           'policy' - the deterministic policy (action for each state), for the given mdp, too improve.\n",
    "           'value_function' - the value function, for the given policy.\n",
    "            'gamma' - discount factor for MDP\n",
    "\n",
    "           Function returns True if policy was improved or False otherwise\n",
    "       \"\"\"\n",
    "\n",
    "    policy_stable = True\n",
    "\n",
    "    #\n",
    "    # INSERT CODE HERE to evaluate the improved policy\n",
    "    #\n",
    "\n",
    "    return policy_stable"
   ]
  },
  {
   "cell_type": "markdown",
   "metadata": {},
   "source": [
    "Zaimplementuj funkcję do iteracyjnego doskonalenia strategii"
   ]
  },
  {
   "cell_type": "code",
   "execution_count": null,
   "metadata": {},
   "outputs": [],
   "source": [
    "def policy_iteration(mdp, gamma, theta):\n",
    "\n",
    "    \"\"\"\n",
    "            This function calculate optimal policy for the specified MDP:\n",
    "\n",
    "           'mdp' - model of the environment, use following functions:\n",
    "                get_all_states - return list of all states available in the environment\n",
    "                get_possible_actions - return list of possible actions for the given state\n",
    "                get_next_states - return list of possible next states with a probability for transition from state by taking\n",
    "                                  action into next_state\n",
    "\n",
    "           'gamma' - discount factor for MDP\n",
    "           'theta' - algorithm should stop when minimal difference between previous evaluation of policy and current is smaller\n",
    "                      than theta\n",
    "           Function returns optimal policy and value function for the policy\n",
    "       \"\"\"\n",
    "\n",
    "    policy = dict()\n",
    "\n",
    "    for s in states:\n",
    "        actions = mdp.get_possible_actions(s)\n",
    "        policy[s] = actions[0]\n",
    "\n",
    "    V = deterministic_policy_eval_in_place(mdp, policy, gamma, theta)\n",
    "\n",
    "    policy_stable = False\n",
    "\n",
    "    while not policy_stable:\n",
    "        policy_stable = policy_improvement(mdp, policy, V, gamma)\n",
    "        V = deterministic_policy_eval_in_place(mdp, policy, gamma, theta)\n",
    "\n",
    "        #\n",
    "        # INSERT CODE HERE to evaluate the best policy and value function for the given mdp\n",
    "        #\n",
    "\n",
    "    return policy, V"
   ]
  },
  {
   "cell_type": "markdown",
   "metadata": {},
   "source": [
    "Sprawdzenie poprawności zaimplementowanego algorytmu"
   ]
  },
  {
   "cell_type": "code",
   "execution_count": null,
   "metadata": {},
   "outputs": [],
   "source": [
    "optimal_policy, optimal_value = policy_iteration(mdp, 0.9, 0.001)\n",
    "\n",
    "assert optimal_policy['s0'] == 'a1'\n",
    "assert optimal_policy['s1'] == 'a0'\n",
    "assert optimal_policy['s2'] == 'a1'\n",
    "\n",
    "assert np.isclose(optimal_value['s0'], 3.78536612814300)\n",
    "assert np.isclose(optimal_value['s1'], 7.29865364527343)\n",
    "assert np.isclose(optimal_value['s2'], 4.20683179007964)"
   ]
  },
  {
   "cell_type": "markdown",
   "metadata": {},
   "source": [
    "## Zadanie 3 - Iteracyjne obliczanie funkcji wartości (*Value iteration*)\n",
    "\n",
    "<p style='text-align: justify;'>\n",
    "Celem ćwiczenia jest zaimplementowanie algorytmu iteracyjnego obliczania funkcji wartości. Algorytm ten łączy w sobie dwa wyżej wspomniane podejścia oceny i wyznaczania optymalnej strategii. Najpierw wyznaczana jest optymalna funkcja wartości stanu zgodnie ze wzorem:\n",
    "\\begin{equation}\n",
    "    V(s) \\leftarrow  \\max_a \\sum_{s'} \\sum_r p(s', r|s, a)[r + \\gamma V(s')].\n",
    "\\end{equation}\n",
    "Po wyznaczeniu optymalnej funkcji wartości dla każdego stanu określana jest strategia postępowania w każdym możliwym stanie zgodnie ze wzorem:\n",
    "\\begin{equation}\n",
    "    \\pi(s) = \\text{argmax}_a \\sum_{s'} \\sum_r p(s', r|s, a)[r + \\gamma V(s')].\n",
    "\\end{equation}\n",
    "</p>"
   ]
  },
  {
   "cell_type": "markdown",
   "metadata": {},
   "source": [
    "Implementacja algorytmu do iteracyjnego obliczania funkcji wartości"
   ]
  },
  {
   "cell_type": "code",
   "execution_count": null,
   "metadata": {},
   "outputs": [],
   "source": [
    "def value_iteration(mdp, gamma, theta):\n",
    "    \"\"\"\n",
    "            This function calculate optimal policy for the specified MDP using Value Iteration approach:\n",
    "\n",
    "            'mdp' - model of the environment, use following functions:\n",
    "                get_all_states - return list of all states available in the environment\n",
    "                get_possible_actions - return list of possible actions for the given state\n",
    "                get_next_states - return list of possible next states with a probability for transition from state by taking\n",
    "                                  action into next_state\n",
    "\n",
    "            'gamma' - discount factor for MDP\n",
    "            'theta' - algorithm should stop when minimal difference between previous evaluation of policy and current is\n",
    "                      smaller than theta\n",
    "            Function returns optimal policy and value function for the policy\n",
    "       \"\"\"\n",
    "\n",
    "\n",
    "\n",
    "    V = dict()\n",
    "    policy = dict()\n",
    "\n",
    "    # init with a policy with first avail action for each state\n",
    "    for current_state in mdp.get_all_states():\n",
    "        V[current_state] = 0\n",
    "        policy[current_state] = actions[0]\n",
    "\n",
    "    #\n",
    "    # INSERT CODE HERE to evaluate the best policy and value function for the given mdp\n",
    "    #\n",
    "    return policy, V"
   ]
  },
  {
   "cell_type": "markdown",
   "metadata": {},
   "source": [
    "Sprawdzenie poprawności zaimplementowanego algorytmu"
   ]
  },
  {
   "cell_type": "code",
   "execution_count": null,
   "metadata": {
    "pycharm": {
     "name": "#%%\n"
    }
   },
   "outputs": [],
   "source": [
    "optimal_policy, optimal_value = value_iteration(mdp, 0.9, 0.001)\n",
    "\n",
    "assert optimal_policy['s0'] == 'a1'\n",
    "assert optimal_policy['s1'] == 'a0'\n",
    "assert optimal_policy['s2'] == 'a1'\n",
    "\n",
    "assert np.isclose(optimal_value['s0'], 3.78536612814300)\n",
    "assert np.isclose(optimal_value['s1'], 7.29865364527343)\n",
    "assert np.isclose(optimal_value['s2'], 4.20683179007964)\n",
    "\n",
    "\n"
   ]
  }
 ],
 "metadata": {
  "kernelspec": {
   "name": "pycharm-d5f91ddb",
   "language": "python",
   "display_name": "PyCharm (ISI)"
  },
  "language_info": {
   "codemirror_mode": {
    "name": "ipython",
    "version": 3
   },
   "file_extension": ".py",
   "mimetype": "text/x-python",
   "name": "python",
   "nbconvert_exporter": "python",
   "pygments_lexer": "ipython3",
   "version": "3.7.3"
  },
  "pycharm": {
   "stem_cell": {
    "cell_type": "raw",
    "source": [],
    "metadata": {
     "collapsed": false
    }
   }
  }
 },
 "nbformat": 4,
 "nbformat_minor": 4
}
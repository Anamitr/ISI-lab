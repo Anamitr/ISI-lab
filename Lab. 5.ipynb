{
 "cells": [
  {
   "metadata": {},
   "cell_type": "markdown",
   "source": [
    "# Laboratorium 5\n",
    "\n",
    "Celem czwartego laboratorium jest zapoznanie się oraz zaimplementowanie algorytmów głębokiego uczenia aktywnego. Zaimplementowane algorytmy będą testowane z wykorzystaniem środowiska z OpenAI - *CartPole*.\n"
   ]
  },
  {
   "metadata": {},
   "cell_type": "markdown",
   "source": [
    "Dołączenie standardowych bibliotek"
   ]
  },
  {
   "metadata": {
    "trusted": true,
    "pycharm": {
     "is_executing": false
    }
   },
   "cell_type": "code",
   "source": [
    "from collections import deque\n",
    "import gym\n",
    "import numpy as np\n",
    "import random\n",
    "import time as tm\n",
    "\n",
    "from gym.envs.classic_control import CartPoleEnv"
   ],
   "execution_count": 32,
   "outputs": []
  },
  {
   "metadata": {},
   "cell_type": "markdown",
   "source": [
    "Dołączenie bibliotek do obsługi sieci neuronowych"
   ]
  },
  {
   "metadata": {
    "trusted": true,
    "pycharm": {
     "is_executing": false
    }
   },
   "cell_type": "code",
   "source": [
    "from keras import Model\n",
    "from keras.layers import Dense\n",
    "from keras.models import Sequential\n",
    "from keras.optimizers import Adam"
   ],
   "execution_count": 33,
   "outputs": []
  },
  {
   "metadata": {},
   "cell_type": "markdown",
   "source": [
    "## Zadanie 1 - Double Deep Q-Network\n",
    "\n",
    "<p style='text-align: justify;'>\n",
    "Celem ćwiczenie jest zaimplementowanie algorytmu Double Deep Q-Network. Wartoscią oczekiwaną sieci jest:\n",
    "\\begin{equation}\n",
    "       Q^*(s, a) \\approx r + \\gamma argmax_{a'}Q_\\theta'(s', a') \n",
    "\\end{equation}\n",
    "a wagi pomiędzy sieciami wymieniane są co dziesięć aktualizacji wag sieci sterującej poczynaniami agenta ($Q$).\n",
    "</p>"
   ]
  },
  {
   "metadata": {
    "trusted": true,
    "pycharm": {
     "is_executing": false
    }
   },
   "cell_type": "code",
   "source": [
    "\n",
    "class DDQNAgent:\n",
    "    def __init__(self, action_size, learning_rate, model: Model, target_model: Model, get_legal_actions=None, env=None):\n",
    "        self.action_size = action_size\n",
    "        self.memory = deque(maxlen=2000)\n",
    "        self.gamma = 0.95  # discount rate\n",
    "        self.epsilon = 1.0  # exploration rate\n",
    "        self.epsilon_min = 0.01\n",
    "        self.epsilon_decay = 0.999\n",
    "        self.tau = float(0.85)\n",
    "        self.learning_rate = learning_rate\n",
    "        self.model = model\n",
    "        self.get_legal_actions = get_legal_actions\n",
    "        self.env = env\n",
    "        \n",
    "        self.target_model = target_model\n",
    "        self.update_weights()\n",
    "        self.replay_counter = 1\n",
    "        \n",
    "        \n",
    "    def remember(self, state, action, reward, next_state, done):\n",
    "        # Function adds information to the memory about last action and its results\n",
    "        self.memory.append((state, action, reward, next_state, done))\n",
    "\n",
    "    def get_action(self, state):\n",
    "        \"\"\"\n",
    "        Compute the action to take in the current state, including exploration.\n",
    "        With probability self.epsilon, we should take a random action.\n",
    "            otherwise - the best policy action (self.get_best_action).\n",
    "\n",
    "        Note: To pick randomly from a list, use random.choice(list).\n",
    "              To pick True or False with a given probablity, generate uniform number in [0, 1]\n",
    "              and compare it with your probability\n",
    "        \"\"\"\n",
    "\n",
    "        #\n",
    "        # INSERT CODE HERE to get action in a given state (according to epsilon greedy algorithm)\n",
    "        #\n",
    "\n",
    "        epsilon = self.epsilon\n",
    "\n",
    "        # Pick Action\n",
    "        if isinstance(env, CartPoleEnv):\n",
    "            if np.random.random() < epsilon:\n",
    "                return self.env.action_space.sample()\n",
    "            else:\n",
    "                return np.argmax(self.model.predict(state)[0])\n",
    "        else:\n",
    "            possible_actions = self.get_legal_actions(state)\n",
    "            if len(possible_actions) == 0:\n",
    "                return None\n",
    "            best_action = self.get_best_action(state)\n",
    "            chosen_action = best_action\n",
    "\n",
    "            if random.uniform(0, 1) < epsilon:\n",
    "                random_actions = possible_actions.copy()\n",
    "                random_actions.remove(best_action)\n",
    "                chosen_action = random.choice(random_actions if random_actions else [best_action])\n",
    "            return chosen_action\n",
    "\n",
    "    def get_best_action(self, state):\n",
    "        \"\"\"\n",
    "        Compute the best action to take in a state (using current q-values).\n",
    "        \"\"\"\n",
    "        if isinstance(env, CartPoleEnv):\n",
    "            possible_actions = self.env.action_space\n",
    "        else:\n",
    "            possible_actions = self.get_legal_actions(state)\n",
    "            if len(possible_actions) == 0:\n",
    "                return None\n",
    "\n",
    "        return np.argmax(self.model.predict(state))\n",
    "\n",
    "    def lower_epsilon(self):\n",
    "        new_epsilon = self.epsilon * self.epsilon_decay\n",
    "        if new_epsilon >= self.epsilon_min:\n",
    "            self.epsilon = new_epsilon\n",
    "\n",
    "    def replay(self, batch_size):\n",
    "        \"\"\"\n",
    "        Function learn network using randomly selected actions from the memory.\n",
    "        First calculates Q value for the next state and choose action with the biggest value.\n",
    "        Target value is calculated according to:\n",
    "                Q(s,a) := (r + gamma * max_a(Q(s', a)))\n",
    "        except the situation when the next action is the last action, in such case Q(s, a) := r.\n",
    "        In order to change only those weights responsible for chosing given action, the rest values should be those\n",
    "        returned by the network for state state.\n",
    "        The network should be trained on batch_size samples.\n",
    "        Also every time the function replay is called self.epsilon value should be updated according to equation:\n",
    "        self.epsilon *= self.epsilon_decay\n",
    "        \"\"\"\n",
    "        #\n",
    "        # INSERT CODE HERE to train network\n",
    "        #\n",
    "\n",
    "        if len(self.memory) < batch_size:\n",
    "            return\n",
    "\n",
    "        info_sets = random.sample(self.memory, batch_size)\n",
    "        states_list = []\n",
    "        targets_list = []\n",
    "        for info_set in info_sets:\n",
    "            state, action, reward, next_state, done = info_set\n",
    "            states_list.append(state.flatten())\n",
    "            target = self.target_model.predict(state)\n",
    "            if done:\n",
    "                target[0][action] = reward\n",
    "            else:\n",
    "                Q_future = max(self.target_model.predict(next_state)[0])\n",
    "                target[0][action] = reward + Q_future * self.gamma\n",
    "            targets_list.append(target.flatten())\n",
    "\n",
    "        states_array = np.array(states_list)\n",
    "        targets_array = np.array(targets_list)\n",
    "\n",
    "        self.model.train_on_batch(states_array, targets_array)\n",
    "        self.lower_epsilon()\n",
    "        self.replay_counter += 1\n",
    "        if self.replay_counter >= 10:\n",
    "            self.update_weights()\n",
    "            self.replay_counter = 0\n",
    "\n",
    "\n",
    "    def update_weights(self):\n",
    "        \"\"\"copy trained Q Network params to target Q Network\"\"\"\n",
    "        #\n",
    "        # INSERT CODE HERE to train network\n",
    "        #\n",
    "        weights = self.model.get_weights()\n",
    "        target_weights = self.target_model.get_weights()\n",
    "        for i in range(len(target_weights)):\n",
    "            target_weights[i] = weights[i] * self.tau + target_weights[i] * (1 - self.tau)\n",
    "            # target_weights[i] = weights[i]\n",
    "        self.target_model.set_weights(target_weights)\n"
   ],
   "execution_count": 37,
   "outputs": []
  },
  {
   "metadata": {},
   "cell_type": "markdown",
   "source": [
    "Czas przygotować model sieci, która będzie się uczyła działania w środowisku [*CartPool*](https://gym.openai.com/envs/CartPole-v0/):"
   ]
  },
  {
   "metadata": {
    "trusted": true,
    "pycharm": {
     "is_executing": false
    }
   },
   "cell_type": "code",
   "source": [
    "def build_model():\n",
    "    model = Sequential()\n",
    "    model.add(Dense(16, input_dim=state_size, activation=\"relu\"))\n",
    "    model.add(Dense(32, activation=\"relu\"))\n",
    "    model.add(Dense(16, activation=\"relu\"))\n",
    "    model.add(Dense(action_size))  # wyjście\n",
    "    model.compile(loss=\"mean_squared_error\",\n",
    "                  optimizer=Adam(lr=learning_rate))\n",
    "    return model\n",
    "\n",
    "env = gym.make(\"CartPole-v0\").env\n",
    "state_size = env.observation_space.shape[0]\n",
    "action_size = env.action_space.n\n",
    "learning_rate = 0.001\n",
    "\n",
    "model = build_model()\n",
    "target_model = build_model()"
   ],
   "execution_count": 38,
   "outputs": []
  },
  {
   "metadata": {},
   "cell_type": "markdown",
   "source": [
    "Czas nauczyć agenta gry w środowisku *CartPool*:"
   ]
  },
  {
   "metadata": {
    "trusted": true,
    "pycharm": {
     "is_executing": false
    }
   },
   "cell_type": "code",
   "source": [
    "agent = DDQNAgent(action_size, learning_rate, model, target_model, env=env)\n",
    "\n",
    "agent.epsilon = 0.75\n",
    "\n",
    "done = False\n",
    "batch_size = 64\n",
    "EPISODES = 1000\n",
    "counter = 0\n",
    "for e in range(EPISODES):\n",
    "    start = tm.time()\n",
    "    summary = []\n",
    "    for _ in range(100):\n",
    "        total_reward = 0\n",
    "        env_state = env.reset()\n",
    "    \n",
    "        #\n",
    "        # INSERT CODE HERE to prepare appropriate format of the state for network\n",
    "        #\n",
    "        state = np.array([np.array(env_state).flatten()])\n",
    "        \n",
    "        for time in range(1000):\n",
    "            action = agent.get_action(state)\n",
    "            next_state_env, reward, done, _ = env.step(action)\n",
    "            total_reward += reward\n",
    "\n",
    "            #\n",
    "            # INSERT CODE HERE to prepare appropriate format of the next state for network\n",
    "            #\n",
    "            next_state = np.array([np.array(next_state_env).flatten()])\n",
    "\n",
    "            #add to experience memory\n",
    "            agent.remember(state, action, reward, next_state, done)\n",
    "            state = next_state\n",
    "            if done:\n",
    "                break\n",
    "\n",
    "        #\n",
    "        # INSERT CODE HERE to train network if in the memory is more samples then size of the batch\n",
    "        #\n",
    "        if len(agent.memory) > batch_size:\n",
    "            agent.replay(batch_size)\n",
    "            # agent.update_weights()\n",
    "        \n",
    "        summary.append(total_reward)\n",
    "    end = tm.time()\n",
    "    print(\"epoch #{}\\tmean reward = {:.3f}\\tepsilon = {:.3f}\\ttime = {:.3f}\".format(e, np.mean(summary), agent.epsilon,\n",
    "                                                                                    end - start))\n",
    "    if np.mean(total_reward) > 195:\n",
    "        print (\"You Win!\")\n",
    "        break\n",
    "    # Results (episodes to win):\n",
    "    # 19, 12, 26\n",
    "    # with replay: 10, 12, 6, 13\n",
    "    # with tau updating: 23\n",
    "    # tau = 1: 21, 11, 10\n",
    "    # tau = 0.85: 20"
   ],
   "execution_count": 39,
   "outputs": [
    {
     "name": "stdout",
     "text": [
      "epoch #0\tmean reward = 17.150\tepsilon = 0.681\ttime = 10.690\n",
      "epoch #1\tmean reward = 15.530\tepsilon = 0.616\ttime = 9.672\n",
      "epoch #2\tmean reward = 15.860\tepsilon = 0.557\ttime = 9.992\n",
      "epoch #3\tmean reward = 39.810\tepsilon = 0.504\ttime = 10.695\n",
      "epoch #4\tmean reward = 66.160\tepsilon = 0.456\ttime = 12.133\n",
      "epoch #5\tmean reward = 102.780\tepsilon = 0.413\ttime = 13.960\n",
      "epoch #6\tmean reward = 92.010\tepsilon = 0.373\ttime = 13.875\n",
      "epoch #7\tmean reward = 114.130\tepsilon = 0.338\ttime = 15.479\n",
      "epoch #8\tmean reward = 129.850\tepsilon = 0.306\ttime = 16.449\n",
      "epoch #9\tmean reward = 131.100\tepsilon = 0.277\ttime = 18.751\n",
      "epoch #10\tmean reward = 172.860\tepsilon = 0.250\ttime = 19.959\n",
      "epoch #11\tmean reward = 161.320\tepsilon = 0.226\ttime = 18.441\n",
      "epoch #12\tmean reward = 144.480\tepsilon = 0.205\ttime = 18.133\n",
      "epoch #13\tmean reward = 129.320\tepsilon = 0.185\ttime = 17.336\n",
      "epoch #14\tmean reward = 107.850\tepsilon = 0.168\ttime = 17.121\n",
      "epoch #15\tmean reward = 114.440\tepsilon = 0.152\ttime = 18.676\n",
      "epoch #16\tmean reward = 115.200\tepsilon = 0.137\ttime = 18.510\n",
      "epoch #17\tmean reward = 101.340\tepsilon = 0.124\ttime = 17.152\n",
      "epoch #18\tmean reward = 109.490\tepsilon = 0.112\ttime = 19.087\n",
      "epoch #19\tmean reward = 137.350\tepsilon = 0.102\ttime = 19.409\n",
      "epoch #20\tmean reward = 347.670\tepsilon = 0.092\ttime = 35.777\n",
      "You Win!\n"
     ],
     "output_type": "stream"
    }
   ]
  }
 ],
 "metadata": {
  "kernelspec": {
   "name": "python3",
   "display_name": "Python 3",
   "language": "python"
  },
  "language_info": {
   "name": "python",
   "version": "3.6.10",
   "mimetype": "text/x-python",
   "codemirror_mode": {
    "name": "ipython",
    "version": 3
   },
   "pygments_lexer": "ipython3",
   "nbconvert_exporter": "python",
   "file_extension": ".py"
  },
  "pycharm": {
   "stem_cell": {
    "cell_type": "raw",
    "source": [],
    "metadata": {
     "collapsed": false
    }
   }
  }
 },
 "nbformat": 4,
 "nbformat_minor": 4
}